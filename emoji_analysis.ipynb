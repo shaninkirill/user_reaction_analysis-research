{
 "cells": [
  {
   "cell_type": "markdown",
   "id": "68112ece-8fe6-45a7-9b0d-7f2cc0e8b130",
   "metadata": {},
   "source": [
    "## Импорт библиотек"
   ]
  },
  {
   "cell_type": "code",
   "execution_count": 1,
   "id": "3641be9b-c601-42b6-8507-247a13257cb5",
   "metadata": {
    "execution": {
     "iopub.execute_input": "2024-10-12T08:55:13.681782Z",
     "iopub.status.busy": "2024-10-12T08:55:13.680502Z",
     "iopub.status.idle": "2024-10-12T08:55:18.852121Z",
     "shell.execute_reply": "2024-10-12T08:55:18.851276Z",
     "shell.execute_reply.started": "2024-10-12T08:55:13.681732Z"
    },
    "tags": []
   },
   "outputs": [
    {
     "name": "stderr",
     "output_type": "stream",
     "text": [
      "/home/jupyter/.local/lib/python3.10/site-packages/transformers/utils/hub.py:128: FutureWarning: Using `TRANSFORMERS_CACHE` is deprecated and will be removed in v5 of Transformers. Use `HF_HOME` instead.\n",
      "  warnings.warn(\n",
      "2024-10-12 08:55:16.387716: I tensorflow/core/util/port.cc:110] oneDNN custom operations are on. You may see slightly different numerical results due to floating-point round-off errors from different computation orders. To turn them off, set the environment variable `TF_ENABLE_ONEDNN_OPTS=0`.\n",
      "2024-10-12 08:55:16.435721: I tensorflow/core/platform/cpu_feature_guard.cc:182] This TensorFlow binary is optimized to use available CPU instructions in performance-critical operations.\n",
      "To enable the following instructions: AVX2 AVX512F AVX512_VNNI FMA, in other operations, rebuild TensorFlow with the appropriate compiler flags.\n",
      "2024-10-12 08:55:17.456263: W tensorflow/compiler/tf2tensorrt/utils/py_utils.cc:38] TF-TRT Warning: Could not find TensorRT\n"
     ]
    }
   ],
   "source": [
    "import pandas as pd\n",
    "from sklearn.cluster import KMeans\n",
    "from sklearn.decomposition import PCA\n",
    "import matplotlib.pyplot as plt\n",
    "import demoji\n",
    "import nltk\n",
    "import string\n",
    "import torch.nn as nn\n",
    "import torch\n",
    "from torch.utils.data import Dataset, DataLoader, random_split\n",
    "import torch.optim as optim\n",
    "from transformers import AutoTokenizer, AutoModel\n",
    "from sklearn.metrics import r2_score, silhouette_score\n",
    "from collections import Counter\n",
    "from sklearn.metrics.pairwise import cosine_similarity\n",
    "import numpy as np"
   ]
  },
  {
   "cell_type": "code",
   "execution_count": 4,
   "id": "0871b600-b174-4858-b171-52ee0196d67f",
   "metadata": {
    "execution": {
     "iopub.execute_input": "2024-10-12T08:55:18.907879Z",
     "iopub.status.busy": "2024-10-12T08:55:18.907032Z",
     "iopub.status.idle": "2024-10-12T08:55:19.072564Z",
     "shell.execute_reply": "2024-10-12T08:55:19.071731Z",
     "shell.execute_reply.started": "2024-10-12T08:55:18.907842Z"
    },
    "tags": []
   },
   "outputs": [
    {
     "name": "stderr",
     "output_type": "stream",
     "text": [
      "[nltk_data] Downloading package stopwords to\n",
      "[nltk_data]     /home/jupyter/nltk_data...\n",
      "[nltk_data]   Package stopwords is already up-to-date!\n",
      "[nltk_data] Downloading package punkt to /home/jupyter/nltk_data...\n",
      "[nltk_data]   Package punkt is already up-to-date!\n"
     ]
    },
    {
     "data": {
      "text/plain": [
       "True"
      ]
     },
     "execution_count": 4,
     "metadata": {},
     "output_type": "execute_result"
    }
   ],
   "source": [
    "nltk.download('stopwords')\n",
    "nltk.download('punkt')"
   ]
  },
  {
   "cell_type": "markdown",
   "id": "bfe1f493-25f3-41c7-80f2-79f4cad6fa36",
   "metadata": {},
   "source": [
    "### Считываем данные реакций пользователей Telegram"
   ]
  },
  {
   "cell_type": "code",
   "execution_count": 5,
   "id": "92d088a9-84da-4373-a6f7-51eee9f1984a",
   "metadata": {
    "execution": {
     "iopub.execute_input": "2024-10-12T08:55:19.074532Z",
     "iopub.status.busy": "2024-10-12T08:55:19.073504Z",
     "iopub.status.idle": "2024-10-12T08:55:24.136097Z",
     "shell.execute_reply": "2024-10-12T08:55:24.135272Z",
     "shell.execute_reply.started": "2024-10-12T08:55:19.074494Z"
    },
    "tags": []
   },
   "outputs": [],
   "source": [
    "telegram_df = pd.read_csv('reactions_dataset.csv')"
   ]
  },
  {
   "cell_type": "code",
   "execution_count": 6,
   "id": "86f3f9c0-a0a8-4df5-8ae5-9c694224acf4",
   "metadata": {
    "execution": {
     "iopub.execute_input": "2024-10-12T08:55:24.138449Z",
     "iopub.status.busy": "2024-10-12T08:55:24.137186Z",
     "iopub.status.idle": "2024-10-12T08:55:24.310334Z",
     "shell.execute_reply": "2024-10-12T08:55:24.309087Z",
     "shell.execute_reply.started": "2024-10-12T08:55:24.138406Z"
    },
    "tags": []
   },
   "outputs": [],
   "source": [
    "telegram_df = telegram_df.dropna(subset=['post', 'reactions'])"
   ]
  },
  {
   "cell_type": "code",
   "execution_count": 7,
   "id": "a95906ce-f1bd-4ce7-bcc1-43f455007211",
   "metadata": {
    "execution": {
     "iopub.execute_input": "2024-10-12T08:55:24.312145Z",
     "iopub.status.busy": "2024-10-12T08:55:24.311290Z",
     "iopub.status.idle": "2024-10-12T08:55:24.349607Z",
     "shell.execute_reply": "2024-10-12T08:55:24.348867Z",
     "shell.execute_reply.started": "2024-10-12T08:55:24.312106Z"
    },
    "tags": []
   },
   "outputs": [],
   "source": [
    "telegram_df = telegram_df.reset_index(drop=True)"
   ]
  },
  {
   "cell_type": "markdown",
   "id": "f7e981fe-9423-42e4-9c3f-a15c3a08add4",
   "metadata": {},
   "source": [
    "### Извлекаем уникальные эмоджи из датасета Telegram"
   ]
  },
  {
   "cell_type": "code",
   "execution_count": 8,
   "id": "3b661c63-baa1-4bfb-ac38-6845e1318a0c",
   "metadata": {
    "execution": {
     "iopub.execute_input": "2024-10-12T08:55:24.351507Z",
     "iopub.status.busy": "2024-10-12T08:55:24.350440Z",
     "iopub.status.idle": "2024-10-12T08:55:24.368463Z",
     "shell.execute_reply": "2024-10-12T08:55:24.367658Z",
     "shell.execute_reply.started": "2024-10-12T08:55:24.351466Z"
    },
    "tags": []
   },
   "outputs": [],
   "source": [
    "def extract_unique_emojis(reactions):\n",
    "    emojis = set()\n",
    "    for reaction in reactions:\n",
    "        for part in reaction.split(', '):\n",
    "            emoji = part.split(':')[0]\n",
    "            emojis.add(emoji)\n",
    "    return emojis"
   ]
  },
  {
   "cell_type": "code",
   "execution_count": 9,
   "id": "02ad12ea-3c37-4821-863d-f2709000ea83",
   "metadata": {
    "execution": {
     "iopub.execute_input": "2024-10-12T08:55:24.369939Z",
     "iopub.status.busy": "2024-10-12T08:55:24.369325Z",
     "iopub.status.idle": "2024-10-12T08:55:24.960135Z",
     "shell.execute_reply": "2024-10-12T08:55:24.959390Z",
     "shell.execute_reply.started": "2024-10-12T08:55:24.369900Z"
    },
    "tags": []
   },
   "outputs": [],
   "source": [
    "unique_emojis = extract_unique_emojis(telegram_df['reactions'].tolist())"
   ]
  },
  {
   "cell_type": "code",
   "execution_count": 10,
   "id": "22a3c676-1fd5-454e-a09f-83a1f0b8656e",
   "metadata": {
    "execution": {
     "iopub.execute_input": "2024-10-12T08:55:24.963388Z",
     "iopub.status.busy": "2024-10-12T08:55:24.962538Z",
     "iopub.status.idle": "2024-10-12T08:55:24.972936Z",
     "shell.execute_reply": "2024-10-12T08:55:24.972023Z",
     "shell.execute_reply.started": "2024-10-12T08:55:24.963353Z"
    },
    "tags": []
   },
   "outputs": [],
   "source": [
    "def clear_emojis(emojis):\n",
    "    clear_emojis = []\n",
    "    for emoji in emojis:\n",
    "        if not '\\u200d' in emoji and emoji != 'None' and '\\U0001fae1' not in emoji:\n",
    "            clear_emojis.append(emoji)\n",
    "\n",
    "    return clear_emojis"
   ]
  },
  {
   "cell_type": "code",
   "execution_count": 11,
   "id": "2c2daa4b-7bf5-4e43-9a2b-b2a6a971fa18",
   "metadata": {
    "execution": {
     "iopub.execute_input": "2024-10-12T08:55:24.974810Z",
     "iopub.status.busy": "2024-10-12T08:55:24.973760Z",
     "iopub.status.idle": "2024-10-12T08:55:24.983803Z",
     "shell.execute_reply": "2024-10-12T08:55:24.983101Z",
     "shell.execute_reply.started": "2024-10-12T08:55:24.974782Z"
    },
    "tags": []
   },
   "outputs": [],
   "source": [
    "unique_emojis = clear_emojis(unique_emojis)"
   ]
  },
  {
   "cell_type": "code",
   "execution_count": 12,
   "id": "34a4abe4-18e3-47da-9f46-64ce316d6ddb",
   "metadata": {
    "execution": {
     "iopub.execute_input": "2024-10-12T08:55:24.985677Z",
     "iopub.status.busy": "2024-10-12T08:55:24.984677Z",
     "iopub.status.idle": "2024-10-12T08:55:25.010374Z",
     "shell.execute_reply": "2024-10-12T08:55:25.009488Z",
     "shell.execute_reply.started": "2024-10-12T08:55:24.985642Z"
    },
    "tags": []
   },
   "outputs": [
    {
     "data": {
      "text/plain": [
       "68"
      ]
     },
     "execution_count": 12,
     "metadata": {},
     "output_type": "execute_result"
    }
   ],
   "source": [
    "len(unique_emojis)"
   ]
  },
  {
   "cell_type": "markdown",
   "id": "43b7cf4a-4056-485f-8216-460eee418c87",
   "metadata": {},
   "source": [
    "### Просим LLM описать эти смайлики и получаем датасет"
   ]
  },
  {
   "cell_type": "code",
   "execution_count": 13,
   "id": "2a3e9d76-4c60-4218-aa34-546deb001dae",
   "metadata": {
    "execution": {
     "iopub.execute_input": "2024-10-12T08:55:25.012404Z",
     "iopub.status.busy": "2024-10-12T08:55:25.011298Z",
     "iopub.status.idle": "2024-10-12T08:55:25.025478Z",
     "shell.execute_reply": "2024-10-12T08:55:25.024774Z",
     "shell.execute_reply.started": "2024-10-12T08:55:25.012375Z"
    },
    "tags": []
   },
   "outputs": [],
   "source": [
    "emoji_df = pd.read_csv('emoji_description.csv')"
   ]
  },
  {
   "cell_type": "code",
   "execution_count": 14,
   "id": "3055ca5e-15a1-4a72-ac2d-5169beba4f40",
   "metadata": {
    "execution": {
     "iopub.execute_input": "2024-10-12T08:55:25.027366Z",
     "iopub.status.busy": "2024-10-12T08:55:25.026277Z",
     "iopub.status.idle": "2024-10-12T08:55:25.052104Z",
     "shell.execute_reply": "2024-10-12T08:55:25.051207Z",
     "shell.execute_reply.started": "2024-10-12T08:55:25.027321Z"
    },
    "tags": []
   },
   "outputs": [
    {
     "data": {
      "text/html": [
       "<div>\n",
       "<style scoped>\n",
       "    .dataframe tbody tr th:only-of-type {\n",
       "        vertical-align: middle;\n",
       "    }\n",
       "\n",
       "    .dataframe tbody tr th {\n",
       "        vertical-align: top;\n",
       "    }\n",
       "\n",
       "    .dataframe thead th {\n",
       "        text-align: right;\n",
       "    }\n",
       "</style>\n",
       "<table border=\"1\" class=\"dataframe\">\n",
       "  <thead>\n",
       "    <tr style=\"text-align: right;\">\n",
       "      <th></th>\n",
       "      <th>emoji</th>\n",
       "      <th>description</th>\n",
       "    </tr>\n",
       "  </thead>\n",
       "  <tbody>\n",
       "    <tr>\n",
       "      <th>0</th>\n",
       "      <td>🆒</td>\n",
       "      <td>A blue square with \"cool\" written on it, symbo...</td>\n",
       "    </tr>\n",
       "    <tr>\n",
       "      <th>1</th>\n",
       "      <td>🎄</td>\n",
       "      <td>A decorated Christmas tree, representing the h...</td>\n",
       "    </tr>\n",
       "    <tr>\n",
       "      <th>2</th>\n",
       "      <td>👌</td>\n",
       "      <td>A hand making the \"OK\" gesture, signifying app...</td>\n",
       "    </tr>\n",
       "    <tr>\n",
       "      <th>3</th>\n",
       "      <td>🎅</td>\n",
       "      <td>Santa Claus, a symbol of Christmas, gift-givin...</td>\n",
       "    </tr>\n",
       "    <tr>\n",
       "      <th>4</th>\n",
       "      <td>👾</td>\n",
       "      <td>An alien monster emoji, often linked to video ...</td>\n",
       "    </tr>\n",
       "  </tbody>\n",
       "</table>\n",
       "</div>"
      ],
      "text/plain": [
       "  emoji                                        description\n",
       "0     🆒  A blue square with \"cool\" written on it, symbo...\n",
       "1     🎄  A decorated Christmas tree, representing the h...\n",
       "2     👌  A hand making the \"OK\" gesture, signifying app...\n",
       "3     🎅  Santa Claus, a symbol of Christmas, gift-givin...\n",
       "4     👾  An alien monster emoji, often linked to video ..."
      ]
     },
     "execution_count": 14,
     "metadata": {},
     "output_type": "execute_result"
    }
   ],
   "source": [
    "emoji_df.head()"
   ]
  },
  {
   "cell_type": "markdown",
   "id": "612c82b1-039a-4e65-9324-3d83aa603e5a",
   "metadata": {},
   "source": [
    "### Подгружаем модель трансформер предложений для получения эмбеддингов (векторов) описания эмоджи"
   ]
  },
  {
   "cell_type": "code",
   "execution_count": 15,
   "id": "b08eca6a-2607-4083-9a03-1d11d90e2fdc",
   "metadata": {
    "execution": {
     "iopub.execute_input": "2024-10-12T08:55:25.054252Z",
     "iopub.status.busy": "2024-10-12T08:55:25.053102Z",
     "iopub.status.idle": "2024-10-12T08:55:28.095679Z",
     "shell.execute_reply": "2024-10-12T08:55:28.094901Z",
     "shell.execute_reply.started": "2024-10-12T08:55:25.054219Z"
    },
    "tags": []
   },
   "outputs": [
    {
     "name": "stderr",
     "output_type": "stream",
     "text": [
      "Some weights of RobertaModel were not initialized from the model checkpoint at SamLowe/roberta-base-go_emotions and are newly initialized: ['roberta.pooler.dense.bias', 'roberta.pooler.dense.weight']\n",
      "You should probably TRAIN this model on a down-stream task to be able to use it for predictions and inference.\n"
     ]
    }
   ],
   "source": [
    "model_name = \"SamLowe/roberta-base-go_emotions\"\n",
    "tokenizer = AutoTokenizer.from_pretrained(model_name)\n",
    "model = AutoModel.from_pretrained(model_name)"
   ]
  },
  {
   "cell_type": "code",
   "execution_count": 16,
   "id": "b9a575fc-a53b-422c-8821-89a589eaf342",
   "metadata": {
    "execution": {
     "iopub.execute_input": "2024-10-12T08:55:28.097193Z",
     "iopub.status.busy": "2024-10-12T08:55:28.096583Z",
     "iopub.status.idle": "2024-10-12T08:55:28.116365Z",
     "shell.execute_reply": "2024-10-12T08:55:28.115464Z",
     "shell.execute_reply.started": "2024-10-12T08:55:28.097155Z"
    },
    "tags": []
   },
   "outputs": [],
   "source": [
    "def get_sentence_embeddings(sentences):\n",
    "    inputs = tokenizer(sentences, padding=True, truncation=True, return_tensors=\"pt\")\n",
    "    \n",
    "    with torch.no_grad(): \n",
    "        outputs = model(**inputs)\n",
    "    \n",
    "    sentences_embeddings = outputs.last_hidden_state[:, 0, :] \n",
    "    \n",
    "    return sentences_embeddings"
   ]
  },
  {
   "cell_type": "code",
   "execution_count": 17,
   "id": "9ee45f48-2be1-4358-a93a-197122aacbba",
   "metadata": {
    "execution": {
     "iopub.execute_input": "2024-10-12T08:55:28.117541Z",
     "iopub.status.busy": "2024-10-12T08:55:28.117169Z",
     "iopub.status.idle": "2024-10-12T08:55:28.128555Z",
     "shell.execute_reply": "2024-10-12T08:55:28.127793Z",
     "shell.execute_reply.started": "2024-10-12T08:55:28.117514Z"
    },
    "tags": []
   },
   "outputs": [],
   "source": [
    "emoji_texts = emoji_df['description'].tolist()\n",
    "emojis = emoji_df['emoji'].tolist()"
   ]
  },
  {
   "cell_type": "markdown",
   "id": "8ba230b2-dcef-492a-a5c8-7f6a7f9ec565",
   "metadata": {},
   "source": [
    "### Получаем эмбеддинги описания эмоджи"
   ]
  },
  {
   "cell_type": "code",
   "execution_count": 18,
   "id": "022df584-6388-4755-bbf4-e289d79e2e7f",
   "metadata": {
    "execution": {
     "iopub.execute_input": "2024-10-12T08:55:28.130457Z",
     "iopub.status.busy": "2024-10-12T08:55:28.129505Z",
     "iopub.status.idle": "2024-10-12T08:55:30.129337Z",
     "shell.execute_reply": "2024-10-12T08:55:30.128512Z",
     "shell.execute_reply.started": "2024-10-12T08:55:28.130418Z"
    },
    "tags": []
   },
   "outputs": [],
   "source": [
    "emoji_embeddings = get_sentence_embeddings(emoji_texts)"
   ]
  },
  {
   "cell_type": "code",
   "execution_count": 19,
   "id": "0277c2a8-8cd6-4855-a855-7141e4be1b1a",
   "metadata": {
    "execution": {
     "iopub.execute_input": "2024-10-12T08:55:30.131233Z",
     "iopub.status.busy": "2024-10-12T08:55:30.130273Z",
     "iopub.status.idle": "2024-10-12T08:55:30.173834Z",
     "shell.execute_reply": "2024-10-12T08:55:30.173017Z",
     "shell.execute_reply.started": "2024-10-12T08:55:30.131192Z"
    },
    "tags": []
   },
   "outputs": [],
   "source": [
    "cosine_sim_matrix = cosine_similarity(emoji_embeddings)"
   ]
  },
  {
   "cell_type": "markdown",
   "id": "7b2d1494-dbcd-4858-aea1-4bc8ba229fc5",
   "metadata": {},
   "source": [
    "### Настраиваем кластеризацию"
   ]
  },
  {
   "cell_type": "code",
   "execution_count": 20,
   "id": "29ceae2e-5b3f-44a4-912b-4a6fe4e05eb8",
   "metadata": {
    "execution": {
     "iopub.execute_input": "2024-10-12T08:55:30.175933Z",
     "iopub.status.busy": "2024-10-12T08:55:30.174816Z",
     "iopub.status.idle": "2024-10-12T08:55:30.214871Z",
     "shell.execute_reply": "2024-10-12T08:55:30.214032Z",
     "shell.execute_reply.started": "2024-10-12T08:55:30.175904Z"
    },
    "tags": []
   },
   "outputs": [],
   "source": [
    "n_clusters = 3\n",
    "random_state = 42"
   ]
  },
  {
   "cell_type": "markdown",
   "id": "ca5e3a3e-7de7-4d65-b3df-21785493e3de",
   "metadata": {},
   "source": [
    "### Кластеризируем полученные описательные эмбеддинги эмоджи"
   ]
  },
  {
   "cell_type": "code",
   "execution_count": 21,
   "id": "25826374-b50a-4ba0-a32a-5718e2d4b9f5",
   "metadata": {
    "execution": {
     "iopub.execute_input": "2024-10-12T08:55:30.216829Z",
     "iopub.status.busy": "2024-10-12T08:55:30.215793Z",
     "iopub.status.idle": "2024-10-12T08:55:30.311540Z",
     "shell.execute_reply": "2024-10-12T08:55:30.310721Z",
     "shell.execute_reply.started": "2024-10-12T08:55:30.216798Z"
    },
    "tags": []
   },
   "outputs": [
    {
     "name": "stderr",
     "output_type": "stream",
     "text": [
      "/usr/local/lib/python3.10/dist-packages/sklearn/cluster/_kmeans.py:870: FutureWarning: The default value of `n_init` will change from 10 to 'auto' in 1.4. Set the value of `n_init` explicitly to suppress the warning\n",
      "  warnings.warn(\n"
     ]
    }
   ],
   "source": [
    "kmeans = KMeans(n_clusters=n_clusters, init='k-means++', random_state=random_state)\n",
    "kmeans_clusters = kmeans.fit_predict(cosine_sim_matrix)"
   ]
  },
  {
   "cell_type": "markdown",
   "id": "ab168c33-f6a3-4e03-883f-6e9d4fd1ec10",
   "metadata": {},
   "source": [
    "### Уменьшаем размерность для визуализации"
   ]
  },
  {
   "cell_type": "code",
   "execution_count": 22,
   "id": "817bda8f-6b8c-457d-a377-b79de995f70c",
   "metadata": {
    "execution": {
     "iopub.execute_input": "2024-10-12T08:55:30.313410Z",
     "iopub.status.busy": "2024-10-12T08:55:30.312478Z",
     "iopub.status.idle": "2024-10-12T08:55:30.435283Z",
     "shell.execute_reply": "2024-10-12T08:55:30.434061Z",
     "shell.execute_reply.started": "2024-10-12T08:55:30.313375Z"
    },
    "tags": []
   },
   "outputs": [],
   "source": [
    "pca = PCA(n_components=2)\n",
    "reduced_embeddings = pca.fit_transform(emoji_embeddings)"
   ]
  },
  {
   "cell_type": "markdown",
   "id": "2382d88e-9de4-4c85-af21-24171646ab60",
   "metadata": {},
   "source": [
    "### Визуализируем"
   ]
  },
  {
   "cell_type": "code",
   "execution_count": 23,
   "id": "86efa87a-b0a3-4763-912b-1c2d1e4b6993",
   "metadata": {
    "execution": {
     "iopub.execute_input": "2024-10-12T08:55:30.449663Z",
     "iopub.status.busy": "2024-10-12T08:55:30.448992Z",
     "iopub.status.idle": "2024-10-12T08:55:30.481978Z",
     "shell.execute_reply": "2024-10-12T08:55:30.481054Z",
     "shell.execute_reply.started": "2024-10-12T08:55:30.449622Z"
    },
    "tags": []
   },
   "outputs": [],
   "source": [
    "def visualize(clusters):\n",
    "    plt.figure(figsize=(8, 6))\n",
    "    plt.scatter(reduced_embeddings[:, 0], reduced_embeddings[:, 1], c=clusters, cmap='viridis', s=50)\n",
    "    plt.title('Clustering of Emoji Embeddings')\n",
    "    plt.colorbar(label='Cluster')\n",
    "    plt.show()"
   ]
  },
  {
   "cell_type": "code",
   "execution_count": 24,
   "id": "11d4ba13-3555-4962-8e51-3229309b524f",
   "metadata": {
    "execution": {
     "iopub.execute_input": "2024-10-12T08:55:30.483864Z",
     "iopub.status.busy": "2024-10-12T08:55:30.483109Z",
     "iopub.status.idle": "2024-10-12T08:55:30.826635Z",
     "shell.execute_reply": "2024-10-12T08:55:30.825799Z",
     "shell.execute_reply.started": "2024-10-12T08:55:30.483819Z"
    },
    "tags": []
   },
   "outputs": [
    {
     "data": {
      "image/png": "[encoded data removed]",
      "text/plain": [
       "<Figure size 800x600 with 2 Axes>"
      ]
     },
     "metadata": {},
     "output_type": "display_data"
    }
   ],
   "source": [
    "visualize(kmeans_clusters)"
   ]
  },
  {
   "cell_type": "markdown",
   "id": "230de8ed-8b5a-4f7a-a89a-bdee8504eac3",
   "metadata": {},
   "source": [
    "### Оценим качество кластеризации эмодзи. В качестве метрики возьмем Коэффициент Силуэта (от -1 до 1, где -1 плохо, а 1 хорошо сгруппированные кластеры)"
   ]
  },
  {
   "cell_type": "code",
   "execution_count": 25,
   "id": "3f095a7d-3388-4b7d-b907-993e497065c9",
   "metadata": {
    "execution": {
     "iopub.execute_input": "2024-10-12T08:55:30.828453Z",
     "iopub.status.busy": "2024-10-12T08:55:30.827556Z",
     "iopub.status.idle": "2024-10-12T08:55:30.861963Z",
     "shell.execute_reply": "2024-10-12T08:55:30.860858Z",
     "shell.execute_reply.started": "2024-10-12T08:55:30.828413Z"
    },
    "tags": []
   },
   "outputs": [],
   "source": [
    "silhouette_avg = silhouette_score(emoji_embeddings, kmeans_clusters)"
   ]
  },
  {
   "cell_type": "code",
   "execution_count": 26,
   "id": "a0af8280-c549-4fe4-8dbb-2f6fb3ecc5c6",
   "metadata": {
    "execution": {
     "iopub.execute_input": "2024-10-12T08:55:30.869985Z",
     "iopub.status.busy": "2024-10-12T08:55:30.868174Z",
     "iopub.status.idle": "2024-10-12T08:55:30.889169Z",
     "shell.execute_reply": "2024-10-12T08:55:30.888377Z",
     "shell.execute_reply.started": "2024-10-12T08:55:30.869929Z"
    },
    "tags": []
   },
   "outputs": [
    {
     "data": {
      "text/plain": [
       "0.19557595"
      ]
     },
     "execution_count": 26,
     "metadata": {},
     "output_type": "execute_result"
    }
   ],
   "source": [
    "silhouette_avg"
   ]
  },
  {
   "cell_type": "markdown",
   "id": "7b18db68-20e5-4382-8832-36b44f5b1c3a",
   "metadata": {},
   "source": [
    "### Сформируем датафрейм из данных кластеризации и посмотрим, что получилось"
   ]
  },
  {
   "cell_type": "code",
   "execution_count": 27,
   "id": "e2d1af43-08be-4d0c-a86c-7a219a40721a",
   "metadata": {
    "execution": {
     "iopub.execute_input": "2024-10-12T08:55:30.895511Z",
     "iopub.status.busy": "2024-10-12T08:55:30.889997Z",
     "iopub.status.idle": "2024-10-12T08:55:30.915635Z",
     "shell.execute_reply": "2024-10-12T08:55:30.914763Z",
     "shell.execute_reply.started": "2024-10-12T08:55:30.895465Z"
    },
    "tags": []
   },
   "outputs": [],
   "source": [
    "emoji_classes_df = pd.DataFrame({\n",
    "    'emoji': emojis,\n",
    "    'cluster': kmeans_clusters\n",
    "})"
   ]
  },
  {
   "cell_type": "code",
   "execution_count": 28,
   "id": "f1654946-c7fb-4538-8871-e3492fd4142f",
   "metadata": {
    "execution": {
     "iopub.execute_input": "2024-10-12T08:55:30.928601Z",
     "iopub.status.busy": "2024-10-12T08:55:30.925938Z",
     "iopub.status.idle": "2024-10-12T08:55:30.955829Z",
     "shell.execute_reply": "2024-10-12T08:55:30.954587Z",
     "shell.execute_reply.started": "2024-10-12T08:55:30.928552Z"
    },
    "scrolled": true,
    "tags": []
   },
   "outputs": [
    {
     "data": {
      "text/html": [
       "<div>\n",
       "<style scoped>\n",
       "    .dataframe tbody tr th:only-of-type {\n",
       "        vertical-align: middle;\n",
       "    }\n",
       "\n",
       "    .dataframe tbody tr th {\n",
       "        vertical-align: top;\n",
       "    }\n",
       "\n",
       "    .dataframe thead th {\n",
       "        text-align: right;\n",
       "    }\n",
       "</style>\n",
       "<table border=\"1\" class=\"dataframe\">\n",
       "  <thead>\n",
       "    <tr style=\"text-align: right;\">\n",
       "      <th></th>\n",
       "      <th>emoji</th>\n",
       "      <th>cluster</th>\n",
       "    </tr>\n",
       "  </thead>\n",
       "  <tbody>\n",
       "    <tr>\n",
       "      <th>0</th>\n",
       "      <td>🆒</td>\n",
       "      <td>0</td>\n",
       "    </tr>\n",
       "    <tr>\n",
       "      <th>1</th>\n",
       "      <td>🎄</td>\n",
       "      <td>0</td>\n",
       "    </tr>\n",
       "    <tr>\n",
       "      <th>2</th>\n",
       "      <td>👌</td>\n",
       "      <td>0</td>\n",
       "    </tr>\n",
       "    <tr>\n",
       "      <th>3</th>\n",
       "      <td>🎅</td>\n",
       "      <td>0</td>\n",
       "    </tr>\n",
       "    <tr>\n",
       "      <th>4</th>\n",
       "      <td>👾</td>\n",
       "      <td>1</td>\n",
       "    </tr>\n",
       "    <tr>\n",
       "      <th>5</th>\n",
       "      <td>🍌</td>\n",
       "      <td>1</td>\n",
       "    </tr>\n",
       "    <tr>\n",
       "      <th>6</th>\n",
       "      <td>😁</td>\n",
       "      <td>0</td>\n",
       "    </tr>\n",
       "    <tr>\n",
       "      <th>7</th>\n",
       "      <td>🍾</td>\n",
       "      <td>0</td>\n",
       "    </tr>\n",
       "    <tr>\n",
       "      <th>8</th>\n",
       "      <td>💔</td>\n",
       "      <td>2</td>\n",
       "    </tr>\n",
       "    <tr>\n",
       "      <th>9</th>\n",
       "      <td>👏</td>\n",
       "      <td>0</td>\n",
       "    </tr>\n",
       "    <tr>\n",
       "      <th>10</th>\n",
       "      <td>🤡</td>\n",
       "      <td>1</td>\n",
       "    </tr>\n",
       "    <tr>\n",
       "      <th>11</th>\n",
       "      <td>😢</td>\n",
       "      <td>2</td>\n",
       "    </tr>\n",
       "    <tr>\n",
       "      <th>12</th>\n",
       "      <td>🕊</td>\n",
       "      <td>1</td>\n",
       "    </tr>\n",
       "    <tr>\n",
       "      <th>13</th>\n",
       "      <td>😡</td>\n",
       "      <td>2</td>\n",
       "    </tr>\n",
       "    <tr>\n",
       "      <th>14</th>\n",
       "      <td>🤯</td>\n",
       "      <td>2</td>\n",
       "    </tr>\n",
       "    <tr>\n",
       "      <th>15</th>\n",
       "      <td>👀</td>\n",
       "      <td>1</td>\n",
       "    </tr>\n",
       "    <tr>\n",
       "      <th>16</th>\n",
       "      <td>😘</td>\n",
       "      <td>0</td>\n",
       "    </tr>\n",
       "    <tr>\n",
       "      <th>17</th>\n",
       "      <td>😱</td>\n",
       "      <td>2</td>\n",
       "    </tr>\n",
       "    <tr>\n",
       "      <th>18</th>\n",
       "      <td>🤮</td>\n",
       "      <td>2</td>\n",
       "    </tr>\n",
       "    <tr>\n",
       "      <th>19</th>\n",
       "      <td>🤨</td>\n",
       "      <td>1</td>\n",
       "    </tr>\n",
       "    <tr>\n",
       "      <th>20</th>\n",
       "      <td>🤬</td>\n",
       "      <td>2</td>\n",
       "    </tr>\n",
       "    <tr>\n",
       "      <th>21</th>\n",
       "      <td>😨</td>\n",
       "      <td>2</td>\n",
       "    </tr>\n",
       "    <tr>\n",
       "      <th>22</th>\n",
       "      <td>🔥</td>\n",
       "      <td>1</td>\n",
       "    </tr>\n",
       "    <tr>\n",
       "      <th>23</th>\n",
       "      <td>🙏</td>\n",
       "      <td>2</td>\n",
       "    </tr>\n",
       "    <tr>\n",
       "      <th>24</th>\n",
       "      <td>👻</td>\n",
       "      <td>1</td>\n",
       "    </tr>\n",
       "    <tr>\n",
       "      <th>25</th>\n",
       "      <td>🤝</td>\n",
       "      <td>0</td>\n",
       "    </tr>\n",
       "    <tr>\n",
       "      <th>26</th>\n",
       "      <td>🙉</td>\n",
       "      <td>1</td>\n",
       "    </tr>\n",
       "    <tr>\n",
       "      <th>27</th>\n",
       "      <td>💘</td>\n",
       "      <td>0</td>\n",
       "    </tr>\n",
       "    <tr>\n",
       "      <th>28</th>\n",
       "      <td>⚡</td>\n",
       "      <td>1</td>\n",
       "    </tr>\n",
       "    <tr>\n",
       "      <th>29</th>\n",
       "      <td>🌭</td>\n",
       "      <td>1</td>\n",
       "    </tr>\n",
       "  </tbody>\n",
       "</table>\n",
       "</div>"
      ],
      "text/plain": [
       "   emoji  cluster\n",
       "0      🆒        0\n",
       "1      🎄        0\n",
       "2      👌        0\n",
       "3      🎅        0\n",
       "4      👾        1\n",
       "5      🍌        1\n",
       "6      😁        0\n",
       "7      🍾        0\n",
       "8      💔        2\n",
       "9      👏        0\n",
       "10     🤡        1\n",
       "11     😢        2\n",
       "12     🕊        1\n",
       "13     😡        2\n",
       "14     🤯        2\n",
       "15     👀        1\n",
       "16     😘        0\n",
       "17     😱        2\n",
       "18     🤮        2\n",
       "19     🤨        1\n",
       "20     🤬        2\n",
       "21     😨        2\n",
       "22     🔥        1\n",
       "23     🙏        2\n",
       "24     👻        1\n",
       "25     🤝        0\n",
       "26     🙉        1\n",
       "27     💘        0\n",
       "28     ⚡        1\n",
       "29     🌭        1"
      ]
     },
     "execution_count": 28,
     "metadata": {},
     "output_type": "execute_result"
    }
   ],
   "source": [
    "emoji_classes_df.head(30)"
   ]
  },
  {
   "cell_type": "markdown",
   "id": "528e95f2-0397-4d7a-bac6-9ccac81a86fd",
   "metadata": {},
   "source": [
    "### Исходя из выборочного анализа присвоим следующие лэйблы 0 - позитивные смайлики, 1 - нейтральные, 2 - негативные."
   ]
  },
  {
   "cell_type": "code",
   "execution_count": 29,
   "id": "00030a08-3686-4902-96a6-89deedae828b",
   "metadata": {
    "execution": {
     "iopub.execute_input": "2024-10-12T08:55:30.969264Z",
     "iopub.status.busy": "2024-10-12T08:55:30.956778Z",
     "iopub.status.idle": "2024-10-12T08:55:30.993237Z",
     "shell.execute_reply": "2024-10-12T08:55:30.992510Z",
     "shell.execute_reply.started": "2024-10-12T08:55:30.969199Z"
    },
    "tags": []
   },
   "outputs": [],
   "source": [
    "label_map = {\n",
    "    0: 'POSITIVE',\n",
    "    1: 'NEUTRAL',\n",
    "    2: 'NEGATIVE'\n",
    "}"
   ]
  },
  {
   "cell_type": "code",
   "execution_count": 30,
   "id": "61cf6941-d830-49a9-81af-ee448fa186c6",
   "metadata": {
    "execution": {
     "iopub.execute_input": "2024-10-12T08:55:30.995115Z",
     "iopub.status.busy": "2024-10-12T08:55:30.994153Z",
     "iopub.status.idle": "2024-10-12T08:55:31.014412Z",
     "shell.execute_reply": "2024-10-12T08:55:31.013753Z",
     "shell.execute_reply.started": "2024-10-12T08:55:30.995077Z"
    },
    "tags": []
   },
   "outputs": [],
   "source": [
    "emoji_classes_df['sentiment'] = emoji_classes_df['cluster'].map(label_map)"
   ]
  },
  {
   "cell_type": "code",
   "execution_count": 31,
   "id": "5df013d7-7768-4592-b374-a77eac8fd7bb",
   "metadata": {
    "execution": {
     "iopub.execute_input": "2024-10-12T08:55:31.016556Z",
     "iopub.status.busy": "2024-10-12T08:55:31.015282Z",
     "iopub.status.idle": "2024-10-12T08:55:31.043338Z",
     "shell.execute_reply": "2024-10-12T08:55:31.042525Z",
     "shell.execute_reply.started": "2024-10-12T08:55:31.016512Z"
    },
    "scrolled": true,
    "tags": []
   },
   "outputs": [
    {
     "data": {
      "text/html": [
       "<div>\n",
       "<style scoped>\n",
       "    .dataframe tbody tr th:only-of-type {\n",
       "        vertical-align: middle;\n",
       "    }\n",
       "\n",
       "    .dataframe tbody tr th {\n",
       "        vertical-align: top;\n",
       "    }\n",
       "\n",
       "    .dataframe thead th {\n",
       "        text-align: right;\n",
       "    }\n",
       "</style>\n",
       "<table border=\"1\" class=\"dataframe\">\n",
       "  <thead>\n",
       "    <tr style=\"text-align: right;\">\n",
       "      <th></th>\n",
       "      <th>emoji</th>\n",
       "      <th>cluster</th>\n",
       "      <th>sentiment</th>\n",
       "    </tr>\n",
       "  </thead>\n",
       "  <tbody>\n",
       "    <tr>\n",
       "      <th>0</th>\n",
       "      <td>🆒</td>\n",
       "      <td>0</td>\n",
       "      <td>POSITIVE</td>\n",
       "    </tr>\n",
       "    <tr>\n",
       "      <th>1</th>\n",
       "      <td>🎄</td>\n",
       "      <td>0</td>\n",
       "      <td>POSITIVE</td>\n",
       "    </tr>\n",
       "    <tr>\n",
       "      <th>2</th>\n",
       "      <td>👌</td>\n",
       "      <td>0</td>\n",
       "      <td>POSITIVE</td>\n",
       "    </tr>\n",
       "    <tr>\n",
       "      <th>3</th>\n",
       "      <td>🎅</td>\n",
       "      <td>0</td>\n",
       "      <td>POSITIVE</td>\n",
       "    </tr>\n",
       "    <tr>\n",
       "      <th>4</th>\n",
       "      <td>👾</td>\n",
       "      <td>1</td>\n",
       "      <td>NEUTRAL</td>\n",
       "    </tr>\n",
       "    <tr>\n",
       "      <th>5</th>\n",
       "      <td>🍌</td>\n",
       "      <td>1</td>\n",
       "      <td>NEUTRAL</td>\n",
       "    </tr>\n",
       "    <tr>\n",
       "      <th>6</th>\n",
       "      <td>😁</td>\n",
       "      <td>0</td>\n",
       "      <td>POSITIVE</td>\n",
       "    </tr>\n",
       "    <tr>\n",
       "      <th>7</th>\n",
       "      <td>🍾</td>\n",
       "      <td>0</td>\n",
       "      <td>POSITIVE</td>\n",
       "    </tr>\n",
       "    <tr>\n",
       "      <th>8</th>\n",
       "      <td>💔</td>\n",
       "      <td>2</td>\n",
       "      <td>NEGATIVE</td>\n",
       "    </tr>\n",
       "    <tr>\n",
       "      <th>9</th>\n",
       "      <td>👏</td>\n",
       "      <td>0</td>\n",
       "      <td>POSITIVE</td>\n",
       "    </tr>\n",
       "    <tr>\n",
       "      <th>10</th>\n",
       "      <td>🤡</td>\n",
       "      <td>1</td>\n",
       "      <td>NEUTRAL</td>\n",
       "    </tr>\n",
       "    <tr>\n",
       "      <th>11</th>\n",
       "      <td>😢</td>\n",
       "      <td>2</td>\n",
       "      <td>NEGATIVE</td>\n",
       "    </tr>\n",
       "    <tr>\n",
       "      <th>12</th>\n",
       "      <td>🕊</td>\n",
       "      <td>1</td>\n",
       "      <td>NEUTRAL</td>\n",
       "    </tr>\n",
       "    <tr>\n",
       "      <th>13</th>\n",
       "      <td>😡</td>\n",
       "      <td>2</td>\n",
       "      <td>NEGATIVE</td>\n",
       "    </tr>\n",
       "    <tr>\n",
       "      <th>14</th>\n",
       "      <td>🤯</td>\n",
       "      <td>2</td>\n",
       "      <td>NEGATIVE</td>\n",
       "    </tr>\n",
       "    <tr>\n",
       "      <th>15</th>\n",
       "      <td>👀</td>\n",
       "      <td>1</td>\n",
       "      <td>NEUTRAL</td>\n",
       "    </tr>\n",
       "    <tr>\n",
       "      <th>16</th>\n",
       "      <td>😘</td>\n",
       "      <td>0</td>\n",
       "      <td>POSITIVE</td>\n",
       "    </tr>\n",
       "    <tr>\n",
       "      <th>17</th>\n",
       "      <td>😱</td>\n",
       "      <td>2</td>\n",
       "      <td>NEGATIVE</td>\n",
       "    </tr>\n",
       "    <tr>\n",
       "      <th>18</th>\n",
       "      <td>🤮</td>\n",
       "      <td>2</td>\n",
       "      <td>NEGATIVE</td>\n",
       "    </tr>\n",
       "    <tr>\n",
       "      <th>19</th>\n",
       "      <td>🤨</td>\n",
       "      <td>1</td>\n",
       "      <td>NEUTRAL</td>\n",
       "    </tr>\n",
       "    <tr>\n",
       "      <th>20</th>\n",
       "      <td>🤬</td>\n",
       "      <td>2</td>\n",
       "      <td>NEGATIVE</td>\n",
       "    </tr>\n",
       "    <tr>\n",
       "      <th>21</th>\n",
       "      <td>😨</td>\n",
       "      <td>2</td>\n",
       "      <td>NEGATIVE</td>\n",
       "    </tr>\n",
       "    <tr>\n",
       "      <th>22</th>\n",
       "      <td>🔥</td>\n",
       "      <td>1</td>\n",
       "      <td>NEUTRAL</td>\n",
       "    </tr>\n",
       "    <tr>\n",
       "      <th>23</th>\n",
       "      <td>🙏</td>\n",
       "      <td>2</td>\n",
       "      <td>NEGATIVE</td>\n",
       "    </tr>\n",
       "    <tr>\n",
       "      <th>24</th>\n",
       "      <td>👻</td>\n",
       "      <td>1</td>\n",
       "      <td>NEUTRAL</td>\n",
       "    </tr>\n",
       "    <tr>\n",
       "      <th>25</th>\n",
       "      <td>🤝</td>\n",
       "      <td>0</td>\n",
       "      <td>POSITIVE</td>\n",
       "    </tr>\n",
       "    <tr>\n",
       "      <th>26</th>\n",
       "      <td>🙉</td>\n",
       "      <td>1</td>\n",
       "      <td>NEUTRAL</td>\n",
       "    </tr>\n",
       "    <tr>\n",
       "      <th>27</th>\n",
       "      <td>💘</td>\n",
       "      <td>0</td>\n",
       "      <td>POSITIVE</td>\n",
       "    </tr>\n",
       "    <tr>\n",
       "      <th>28</th>\n",
       "      <td>⚡</td>\n",
       "      <td>1</td>\n",
       "      <td>NEUTRAL</td>\n",
       "    </tr>\n",
       "    <tr>\n",
       "      <th>29</th>\n",
       "      <td>🌭</td>\n",
       "      <td>1</td>\n",
       "      <td>NEUTRAL</td>\n",
       "    </tr>\n",
       "    <tr>\n",
       "      <th>30</th>\n",
       "      <td>💯</td>\n",
       "      <td>0</td>\n",
       "      <td>POSITIVE</td>\n",
       "    </tr>\n",
       "    <tr>\n",
       "      <th>31</th>\n",
       "      <td>🎃</td>\n",
       "      <td>1</td>\n",
       "      <td>NEUTRAL</td>\n",
       "    </tr>\n",
       "    <tr>\n",
       "      <th>32</th>\n",
       "      <td>💋</td>\n",
       "      <td>0</td>\n",
       "      <td>POSITIVE</td>\n",
       "    </tr>\n",
       "    <tr>\n",
       "      <th>33</th>\n",
       "      <td>😭</td>\n",
       "      <td>2</td>\n",
       "      <td>NEGATIVE</td>\n",
       "    </tr>\n",
       "    <tr>\n",
       "      <th>34</th>\n",
       "      <td>🖕</td>\n",
       "      <td>2</td>\n",
       "      <td>NEGATIVE</td>\n",
       "    </tr>\n",
       "    <tr>\n",
       "      <th>35</th>\n",
       "      <td>🗿</td>\n",
       "      <td>1</td>\n",
       "      <td>NEUTRAL</td>\n",
       "    </tr>\n",
       "    <tr>\n",
       "      <th>36</th>\n",
       "      <td>💅</td>\n",
       "      <td>1</td>\n",
       "      <td>NEUTRAL</td>\n",
       "    </tr>\n",
       "    <tr>\n",
       "      <th>37</th>\n",
       "      <td>🤓</td>\n",
       "      <td>1</td>\n",
       "      <td>NEUTRAL</td>\n",
       "    </tr>\n",
       "    <tr>\n",
       "      <th>38</th>\n",
       "      <td>😐</td>\n",
       "      <td>1</td>\n",
       "      <td>NEUTRAL</td>\n",
       "    </tr>\n",
       "    <tr>\n",
       "      <th>39</th>\n",
       "      <td>🌚</td>\n",
       "      <td>1</td>\n",
       "      <td>NEUTRAL</td>\n",
       "    </tr>\n",
       "    <tr>\n",
       "      <th>40</th>\n",
       "      <td>🎉</td>\n",
       "      <td>0</td>\n",
       "      <td>POSITIVE</td>\n",
       "    </tr>\n",
       "    <tr>\n",
       "      <th>41</th>\n",
       "      <td>🤷</td>\n",
       "      <td>1</td>\n",
       "      <td>NEUTRAL</td>\n",
       "    </tr>\n",
       "    <tr>\n",
       "      <th>42</th>\n",
       "      <td>💩</td>\n",
       "      <td>1</td>\n",
       "      <td>NEUTRAL</td>\n",
       "    </tr>\n",
       "    <tr>\n",
       "      <th>43</th>\n",
       "      <td>💊</td>\n",
       "      <td>1</td>\n",
       "      <td>NEUTRAL</td>\n",
       "    </tr>\n",
       "    <tr>\n",
       "      <th>44</th>\n",
       "      <td>❤</td>\n",
       "      <td>0</td>\n",
       "      <td>POSITIVE</td>\n",
       "    </tr>\n",
       "    <tr>\n",
       "      <th>45</th>\n",
       "      <td>🤣</td>\n",
       "      <td>0</td>\n",
       "      <td>POSITIVE</td>\n",
       "    </tr>\n",
       "    <tr>\n",
       "      <th>46</th>\n",
       "      <td>🙈</td>\n",
       "      <td>1</td>\n",
       "      <td>NEUTRAL</td>\n",
       "    </tr>\n",
       "    <tr>\n",
       "      <th>47</th>\n",
       "      <td>😴</td>\n",
       "      <td>1</td>\n",
       "      <td>NEUTRAL</td>\n",
       "    </tr>\n",
       "    <tr>\n",
       "      <th>48</th>\n",
       "      <td>😇</td>\n",
       "      <td>0</td>\n",
       "      <td>POSITIVE</td>\n",
       "    </tr>\n",
       "    <tr>\n",
       "      <th>49</th>\n",
       "      <td>😍</td>\n",
       "      <td>0</td>\n",
       "      <td>POSITIVE</td>\n",
       "    </tr>\n",
       "    <tr>\n",
       "      <th>50</th>\n",
       "      <td>🥰</td>\n",
       "      <td>0</td>\n",
       "      <td>POSITIVE</td>\n",
       "    </tr>\n",
       "    <tr>\n",
       "      <th>51</th>\n",
       "      <td>😈</td>\n",
       "      <td>1</td>\n",
       "      <td>NEUTRAL</td>\n",
       "    </tr>\n",
       "    <tr>\n",
       "      <th>52</th>\n",
       "      <td>🤗</td>\n",
       "      <td>0</td>\n",
       "      <td>POSITIVE</td>\n",
       "    </tr>\n",
       "    <tr>\n",
       "      <th>53</th>\n",
       "      <td>😎</td>\n",
       "      <td>0</td>\n",
       "      <td>POSITIVE</td>\n",
       "    </tr>\n",
       "    <tr>\n",
       "      <th>54</th>\n",
       "      <td>☃</td>\n",
       "      <td>1</td>\n",
       "      <td>NEUTRAL</td>\n",
       "    </tr>\n",
       "    <tr>\n",
       "      <th>55</th>\n",
       "      <td>🙊</td>\n",
       "      <td>2</td>\n",
       "      <td>NEGATIVE</td>\n",
       "    </tr>\n",
       "    <tr>\n",
       "      <th>56</th>\n",
       "      <td>🐳</td>\n",
       "      <td>1</td>\n",
       "      <td>NEUTRAL</td>\n",
       "    </tr>\n",
       "    <tr>\n",
       "      <th>57</th>\n",
       "      <td>🤩</td>\n",
       "      <td>0</td>\n",
       "      <td>POSITIVE</td>\n",
       "    </tr>\n",
       "    <tr>\n",
       "      <th>58</th>\n",
       "      <td>🍓</td>\n",
       "      <td>1</td>\n",
       "      <td>NEUTRAL</td>\n",
       "    </tr>\n",
       "    <tr>\n",
       "      <th>59</th>\n",
       "      <td>🤔</td>\n",
       "      <td>1</td>\n",
       "      <td>NEUTRAL</td>\n",
       "    </tr>\n",
       "  </tbody>\n",
       "</table>\n",
       "</div>"
      ],
      "text/plain": [
       "   emoji  cluster sentiment\n",
       "0      🆒        0  POSITIVE\n",
       "1      🎄        0  POSITIVE\n",
       "2      👌        0  POSITIVE\n",
       "3      🎅        0  POSITIVE\n",
       "4      👾        1   NEUTRAL\n",
       "5      🍌        1   NEUTRAL\n",
       "6      😁        0  POSITIVE\n",
       "7      🍾        0  POSITIVE\n",
       "8      💔        2  NEGATIVE\n",
       "9      👏        0  POSITIVE\n",
       "10     🤡        1   NEUTRAL\n",
       "11     😢        2  NEGATIVE\n",
       "12     🕊        1   NEUTRAL\n",
       "13     😡        2  NEGATIVE\n",
       "14     🤯        2  NEGATIVE\n",
       "15     👀        1   NEUTRAL\n",
       "16     😘        0  POSITIVE\n",
       "17     😱        2  NEGATIVE\n",
       "18     🤮        2  NEGATIVE\n",
       "19     🤨        1   NEUTRAL\n",
       "20     🤬        2  NEGATIVE\n",
       "21     😨        2  NEGATIVE\n",
       "22     🔥        1   NEUTRAL\n",
       "23     🙏        2  NEGATIVE\n",
       "24     👻        1   NEUTRAL\n",
       "25     🤝        0  POSITIVE\n",
       "26     🙉        1   NEUTRAL\n",
       "27     💘        0  POSITIVE\n",
       "28     ⚡        1   NEUTRAL\n",
       "29     🌭        1   NEUTRAL\n",
       "30     💯        0  POSITIVE\n",
       "31     🎃        1   NEUTRAL\n",
       "32     💋        0  POSITIVE\n",
       "33     😭        2  NEGATIVE\n",
       "34     🖕        2  NEGATIVE\n",
       "35     🗿        1   NEUTRAL\n",
       "36     💅        1   NEUTRAL\n",
       "37     🤓        1   NEUTRAL\n",
       "38     😐        1   NEUTRAL\n",
       "39     🌚        1   NEUTRAL\n",
       "40     🎉        0  POSITIVE\n",
       "41     🤷        1   NEUTRAL\n",
       "42     💩        1   NEUTRAL\n",
       "43     💊        1   NEUTRAL\n",
       "44     ❤        0  POSITIVE\n",
       "45     🤣        0  POSITIVE\n",
       "46     🙈        1   NEUTRAL\n",
       "47     😴        1   NEUTRAL\n",
       "48     😇        0  POSITIVE\n",
       "49     😍        0  POSITIVE\n",
       "50     🥰        0  POSITIVE\n",
       "51     😈        1   NEUTRAL\n",
       "52     🤗        0  POSITIVE\n",
       "53     😎        0  POSITIVE\n",
       "54     ☃        1   NEUTRAL\n",
       "55     🙊        2  NEGATIVE\n",
       "56     🐳        1   NEUTRAL\n",
       "57     🤩        0  POSITIVE\n",
       "58     🍓        1   NEUTRAL\n",
       "59     🤔        1   NEUTRAL"
      ]
     },
     "execution_count": 31,
     "metadata": {},
     "output_type": "execute_result"
    }
   ],
   "source": [
    "emoji_classes_df.head(60)"
   ]
  },
  {
   "cell_type": "code",
   "execution_count": 32,
   "id": "2e701c97-af13-4f60-9168-ad1877ef6970",
   "metadata": {
    "execution": {
     "iopub.execute_input": "2024-10-12T08:55:31.045344Z",
     "iopub.status.busy": "2024-10-12T08:55:31.044331Z",
     "iopub.status.idle": "2024-10-12T08:55:31.110285Z",
     "shell.execute_reply": "2024-10-12T08:55:31.109444Z",
     "shell.execute_reply.started": "2024-10-12T08:55:31.045294Z"
    },
    "tags": []
   },
   "outputs": [
    {
     "data": {
      "text/html": [
       "<div>\n",
       "<style scoped>\n",
       "    .dataframe tbody tr th:only-of-type {\n",
       "        vertical-align: middle;\n",
       "    }\n",
       "\n",
       "    .dataframe tbody tr th {\n",
       "        vertical-align: top;\n",
       "    }\n",
       "\n",
       "    .dataframe thead th {\n",
       "        text-align: right;\n",
       "    }\n",
       "</style>\n",
       "<table border=\"1\" class=\"dataframe\">\n",
       "  <thead>\n",
       "    <tr style=\"text-align: right;\">\n",
       "      <th></th>\n",
       "      <th>emoji</th>\n",
       "      <th>cluster</th>\n",
       "      <th>sentiment</th>\n",
       "    </tr>\n",
       "  </thead>\n",
       "  <tbody>\n",
       "    <tr>\n",
       "      <th>58</th>\n",
       "      <td>🍓</td>\n",
       "      <td>1</td>\n",
       "      <td>NEUTRAL</td>\n",
       "    </tr>\n",
       "    <tr>\n",
       "      <th>59</th>\n",
       "      <td>🤔</td>\n",
       "      <td>1</td>\n",
       "      <td>NEUTRAL</td>\n",
       "    </tr>\n",
       "    <tr>\n",
       "      <th>60</th>\n",
       "      <td>👎</td>\n",
       "      <td>2</td>\n",
       "      <td>NEGATIVE</td>\n",
       "    </tr>\n",
       "    <tr>\n",
       "      <th>61</th>\n",
       "      <td>👍</td>\n",
       "      <td>0</td>\n",
       "      <td>POSITIVE</td>\n",
       "    </tr>\n",
       "    <tr>\n",
       "      <th>62</th>\n",
       "      <td>🏆</td>\n",
       "      <td>0</td>\n",
       "      <td>POSITIVE</td>\n",
       "    </tr>\n",
       "    <tr>\n",
       "      <th>63</th>\n",
       "      <td>🦄</td>\n",
       "      <td>1</td>\n",
       "      <td>NEUTRAL</td>\n",
       "    </tr>\n",
       "    <tr>\n",
       "      <th>64</th>\n",
       "      <td>🥴</td>\n",
       "      <td>2</td>\n",
       "      <td>NEGATIVE</td>\n",
       "    </tr>\n",
       "    <tr>\n",
       "      <th>65</th>\n",
       "      <td>✍</td>\n",
       "      <td>1</td>\n",
       "      <td>NEUTRAL</td>\n",
       "    </tr>\n",
       "    <tr>\n",
       "      <th>66</th>\n",
       "      <td>🥱</td>\n",
       "      <td>1</td>\n",
       "      <td>NEUTRAL</td>\n",
       "    </tr>\n",
       "    <tr>\n",
       "      <th>67</th>\n",
       "      <td>🤪</td>\n",
       "      <td>0</td>\n",
       "      <td>POSITIVE</td>\n",
       "    </tr>\n",
       "  </tbody>\n",
       "</table>\n",
       "</div>"
      ],
      "text/plain": [
       "   emoji  cluster sentiment\n",
       "58     🍓        1   NEUTRAL\n",
       "59     🤔        1   NEUTRAL\n",
       "60     👎        2  NEGATIVE\n",
       "61     👍        0  POSITIVE\n",
       "62     🏆        0  POSITIVE\n",
       "63     🦄        1   NEUTRAL\n",
       "64     🥴        2  NEGATIVE\n",
       "65     ✍        1   NEUTRAL\n",
       "66     🥱        1   NEUTRAL\n",
       "67     🤪        0  POSITIVE"
      ]
     },
     "execution_count": 32,
     "metadata": {},
     "output_type": "execute_result"
    }
   ],
   "source": [
    "emoji_classes_df.tail(10)"
   ]
  },
  {
   "cell_type": "code",
   "execution_count": 34,
   "id": "ffffa8b0-0e42-4f50-a65a-aa4b50c02e7b",
   "metadata": {
    "execution": {
     "iopub.execute_input": "2024-10-12T08:55:31.177927Z",
     "iopub.status.busy": "2024-10-12T08:55:31.176799Z",
     "iopub.status.idle": "2024-10-12T08:55:31.208578Z",
     "shell.execute_reply": "2024-10-12T08:55:31.207823Z",
     "shell.execute_reply.started": "2024-10-12T08:55:31.177895Z"
    },
    "tags": []
   },
   "outputs": [],
   "source": [
    "emoji_classes_df.to_csv('emoji_clustering.csv')"
   ]
  },
  {
   "cell_type": "markdown",
   "id": "a7601680-fcbd-4a06-bac0-b8a1e119206a",
   "metadata": {},
   "source": [
    "### Из этого датафрейма сформируем словарь для дальнейшего использования"
   ]
  },
  {
   "cell_type": "code",
   "execution_count": 33,
   "id": "ad726555-2f74-44da-89de-5f3d71877e04",
   "metadata": {
    "execution": {
     "iopub.execute_input": "2024-10-12T08:55:31.112489Z",
     "iopub.status.busy": "2024-10-12T08:55:31.111286Z",
     "iopub.status.idle": "2024-10-12T08:55:31.175680Z",
     "shell.execute_reply": "2024-10-12T08:55:31.174853Z",
     "shell.execute_reply.started": "2024-10-12T08:55:31.112460Z"
    },
    "tags": []
   },
   "outputs": [],
   "source": [
    "emoji_classes_dict = emoji_classes_df[['emoji', 'sentiment']].set_index('emoji').T.to_dict('records')[0]"
   ]
  },
  {
   "cell_type": "code",
   "execution_count": 35,
   "id": "035abbae-142d-451d-ac26-333776b4fc72",
   "metadata": {
    "execution": {
     "iopub.execute_input": "2024-10-12T08:55:31.209926Z",
     "iopub.status.busy": "2024-10-12T08:55:31.209443Z",
     "iopub.status.idle": "2024-10-12T08:55:31.270407Z",
     "shell.execute_reply": "2024-10-12T08:55:31.269601Z",
     "shell.execute_reply.started": "2024-10-12T08:55:31.209889Z"
    },
    "tags": []
   },
   "outputs": [
    {
     "data": {
      "text/html": [
       "<div>\n",
       "<style scoped>\n",
       "    .dataframe tbody tr th:only-of-type {\n",
       "        vertical-align: middle;\n",
       "    }\n",
       "\n",
       "    .dataframe tbody tr th {\n",
       "        vertical-align: top;\n",
       "    }\n",
       "\n",
       "    .dataframe thead th {\n",
       "        text-align: right;\n",
       "    }\n",
       "</style>\n",
       "<table border=\"1\" class=\"dataframe\">\n",
       "  <thead>\n",
       "    <tr style=\"text-align: right;\">\n",
       "      <th></th>\n",
       "      <th>channel_name</th>\n",
       "      <th>channel_link</th>\n",
       "      <th>post</th>\n",
       "      <th>post_link</th>\n",
       "      <th>reactions</th>\n",
       "    </tr>\n",
       "  </thead>\n",
       "  <tbody>\n",
       "    <tr>\n",
       "      <th>0</th>\n",
       "      <td>КБ</td>\n",
       "      <td>https://t.me/Cbpub</td>\n",
       "      <td>К вам в палатку зашла кошка? Теперь это ваша к...</td>\n",
       "      <td>https://t.me/Cbpub/54887</td>\n",
       "      <td>❤: 314, 😱: 20, 😁: 14, None: 13, 👍: 3, 🎉: 1, 🤮:...</td>\n",
       "    </tr>\n",
       "    <tr>\n",
       "      <th>1</th>\n",
       "      <td>КБ</td>\n",
       "      <td>https://t.me/Cbpub</td>\n",
       "      <td>Невероятная техника рисования от Ричарда Бернера</td>\n",
       "      <td>https://t.me/Cbpub/54886</td>\n",
       "      <td>👍: 1235, 😱: 290, ❤: 125, 😁: 14, 🗿: 11, 👎: 2, 🤡: 2</td>\n",
       "    </tr>\n",
       "    <tr>\n",
       "      <th>2</th>\n",
       "      <td>КБ</td>\n",
       "      <td>https://t.me/Cbpub</td>\n",
       "      <td>На оф канале Not Pixel Channel выложили пост с...</td>\n",
       "      <td>https://t.me/Cbpub/54885</td>\n",
       "      <td>👍: 1685, 🎉: 309, 😁: 154, 🤡: 68, ❤: 16, None: 1...</td>\n",
       "    </tr>\n",
       "    <tr>\n",
       "      <th>3</th>\n",
       "      <td>КБ</td>\n",
       "      <td>https://t.me/Cbpub</td>\n",
       "      <td>На порках накатали рисунок 🤣 В игре всего пару...</td>\n",
       "      <td>https://t.me/Cbpub/54884</td>\n",
       "      <td>👍: 984, ❤: 158, 🤡: 90, 😁: 58, 🤮: 14, 👎: 11, No...</td>\n",
       "    </tr>\n",
       "    <tr>\n",
       "      <th>4</th>\n",
       "      <td>КБ</td>\n",
       "      <td>https://t.me/Cbpub</td>\n",
       "      <td>Не ну ты вообще снимать умеешь? Давай ещё раз!</td>\n",
       "      <td>https://t.me/Cbpub/54883</td>\n",
       "      <td>❤: 2372, 😁: 695, 👍: 97, 🤡: 12, 🤮: 6, 🗿: 6, 🙏: ...</td>\n",
       "    </tr>\n",
       "  </tbody>\n",
       "</table>\n",
       "</div>"
      ],
      "text/plain": [
       "  channel_name  ...                                          reactions\n",
       "0           КБ  ...  ❤: 314, 😱: 20, 😁: 14, None: 13, 👍: 3, 🎉: 1, 🤮:...\n",
       "1           КБ  ...  👍: 1235, 😱: 290, ❤: 125, 😁: 14, 🗿: 11, 👎: 2, 🤡: 2\n",
       "2           КБ  ...  👍: 1685, 🎉: 309, 😁: 154, 🤡: 68, ❤: 16, None: 1...\n",
       "3           КБ  ...  👍: 984, ❤: 158, 🤡: 90, 😁: 58, 🤮: 14, 👎: 11, No...\n",
       "4           КБ  ...  ❤: 2372, 😁: 695, 👍: 97, 🤡: 12, 🤮: 6, 🗿: 6, 🙏: ...\n",
       "\n",
       "[5 rows x 5 columns]"
      ]
     },
     "execution_count": 35,
     "metadata": {},
     "output_type": "execute_result"
    }
   ],
   "source": [
    "telegram_df.head()"
   ]
  },
  {
   "cell_type": "markdown",
   "id": "8871240c-ed32-4c27-ba65-22095eef7308",
   "metadata": {},
   "source": [
    "### Теперь необходимо вычислить веса для каждого смайлика. Будем использовать частоту реакций"
   ]
  },
  {
   "cell_type": "code",
   "execution_count": 36,
   "id": "cdf6dac3-a829-40af-be91-c9acb5f9cada",
   "metadata": {
    "execution": {
     "iopub.execute_input": "2024-10-12T08:55:31.273123Z",
     "iopub.status.busy": "2024-10-12T08:55:31.272050Z",
     "iopub.status.idle": "2024-10-12T08:55:31.287469Z",
     "shell.execute_reply": "2024-10-12T08:55:31.286741Z",
     "shell.execute_reply.started": "2024-10-12T08:55:31.273070Z"
    },
    "tags": []
   },
   "outputs": [],
   "source": [
    "reactions = telegram_df['reactions']"
   ]
  },
  {
   "cell_type": "code",
   "execution_count": 37,
   "id": "5130edf0-65c9-430d-9339-ab7f64e9d258",
   "metadata": {
    "execution": {
     "iopub.execute_input": "2024-10-12T08:55:31.289421Z",
     "iopub.status.busy": "2024-10-12T08:55:31.288405Z",
     "iopub.status.idle": "2024-10-12T08:55:31.315313Z",
     "shell.execute_reply": "2024-10-12T08:55:31.314468Z",
     "shell.execute_reply.started": "2024-10-12T08:55:31.289382Z"
    },
    "tags": []
   },
   "outputs": [
    {
     "data": {
      "text/plain": [
       "0    ❤: 314, 😱: 20, 😁: 14, None: 13, 👍: 3, 🎉: 1, 🤮:...\n",
       "1    👍: 1235, 😱: 290, ❤: 125, 😁: 14, 🗿: 11, 👎: 2, 🤡: 2\n",
       "2    👍: 1685, 🎉: 309, 😁: 154, 🤡: 68, ❤: 16, None: 1...\n",
       "3    👍: 984, ❤: 158, 🤡: 90, 😁: 58, 🤮: 14, 👎: 11, No...\n",
       "4    ❤: 2372, 😁: 695, 👍: 97, 🤡: 12, 🤮: 6, 🗿: 6, 🙏: ...\n",
       "Name: reactions, dtype: object"
      ]
     },
     "execution_count": 37,
     "metadata": {},
     "output_type": "execute_result"
    }
   ],
   "source": [
    "reactions.head()"
   ]
  },
  {
   "cell_type": "code",
   "execution_count": 38,
   "id": "462c1677-c1ae-4d44-b494-80aff26cf6d9",
   "metadata": {
    "execution": {
     "iopub.execute_input": "2024-10-12T08:55:31.317440Z",
     "iopub.status.busy": "2024-10-12T08:55:31.316303Z",
     "iopub.status.idle": "2024-10-12T08:55:31.360612Z",
     "shell.execute_reply": "2024-10-12T08:55:31.359820Z",
     "shell.execute_reply.started": "2024-10-12T08:55:31.317410Z"
    },
    "tags": []
   },
   "outputs": [],
   "source": [
    "def parse_reactions(reaction_str):\n",
    "    reactions_dict = {}\n",
    "    items = reaction_str.split(', ')\n",
    "    for item in items:\n",
    "        emoji, count = item.split(': ')\n",
    "        reactions_dict[emoji] = int(count)\n",
    "    return reactions_dict"
   ]
  },
  {
   "cell_type": "code",
   "execution_count": 39,
   "id": "f7b5a2bf-6dd7-4a51-b089-7c43e16f5dc3",
   "metadata": {
    "execution": {
     "iopub.execute_input": "2024-10-12T08:55:31.362526Z",
     "iopub.status.busy": "2024-10-12T08:55:31.361469Z",
     "iopub.status.idle": "2024-10-12T08:55:32.451515Z",
     "shell.execute_reply": "2024-10-12T08:55:32.450690Z",
     "shell.execute_reply.started": "2024-10-12T08:55:31.362482Z"
    },
    "tags": []
   },
   "outputs": [],
   "source": [
    "parsed_reactions = reactions.apply(parse_reactions)"
   ]
  },
  {
   "cell_type": "markdown",
   "id": "39e73c96-d300-49e1-b398-394f0a2d96d3",
   "metadata": {},
   "source": [
    "### Подсчитываем количество каждого смайлика"
   ]
  },
  {
   "cell_type": "code",
   "execution_count": 40,
   "id": "238d5b2f-b772-41ac-bd76-aa77122e0da6",
   "metadata": {
    "execution": {
     "iopub.execute_input": "2024-10-12T08:55:32.453314Z",
     "iopub.status.busy": "2024-10-12T08:55:32.452422Z",
     "iopub.status.idle": "2024-10-12T08:55:33.015307Z",
     "shell.execute_reply": "2024-10-12T08:55:33.014460Z",
     "shell.execute_reply.started": "2024-10-12T08:55:32.453271Z"
    },
    "tags": []
   },
   "outputs": [],
   "source": [
    "emoji_counter = Counter()\n",
    "for reaction in parsed_reactions:\n",
    "    emoji_counter.update(reaction)"
   ]
  },
  {
   "cell_type": "markdown",
   "id": "26fe1321-937c-4591-bb73-d5c2d9a7f65d",
   "metadata": {},
   "source": [
    "### Получаем общую сумму использований всех смайликов"
   ]
  },
  {
   "cell_type": "code",
   "execution_count": 41,
   "id": "008aba20-f980-4a41-b0bb-6b8d61aceab5",
   "metadata": {
    "execution": {
     "iopub.execute_input": "2024-10-12T08:55:33.016533Z",
     "iopub.status.busy": "2024-10-12T08:55:33.016132Z",
     "iopub.status.idle": "2024-10-12T08:55:33.052960Z",
     "shell.execute_reply": "2024-10-12T08:55:33.052254Z",
     "shell.execute_reply.started": "2024-10-12T08:55:33.016500Z"
    },
    "tags": []
   },
   "outputs": [],
   "source": [
    "total_reactions = sum(emoji_counter.values())"
   ]
  },
  {
   "cell_type": "markdown",
   "id": "751d24c6-4a7d-4ec6-a282-a38c1f0e1386",
   "metadata": {},
   "source": [
    "### Нормализуем частоты смайликов"
   ]
  },
  {
   "cell_type": "code",
   "execution_count": 42,
   "id": "4f5613d1-199c-4668-a085-a6adde801b36",
   "metadata": {
    "execution": {
     "iopub.execute_input": "2024-10-12T08:55:33.054618Z",
     "iopub.status.busy": "2024-10-12T08:55:33.053956Z",
     "iopub.status.idle": "2024-10-12T08:55:33.071465Z",
     "shell.execute_reply": "2024-10-12T08:55:33.070662Z",
     "shell.execute_reply.started": "2024-10-12T08:55:33.054582Z"
    },
    "tags": []
   },
   "outputs": [],
   "source": [
    "emoji_frequencies = {emoji: count / total_reactions for emoji, count in emoji_counter.items()}"
   ]
  },
  {
   "cell_type": "code",
   "execution_count": 43,
   "id": "acebaece-ddfc-4db2-8a24-76afde39b0d6",
   "metadata": {
    "execution": {
     "iopub.execute_input": "2024-10-12T08:55:33.072877Z",
     "iopub.status.busy": "2024-10-12T08:55:33.072333Z",
     "iopub.status.idle": "2024-10-12T08:55:33.138185Z",
     "shell.execute_reply": "2024-10-12T08:55:33.137280Z",
     "shell.execute_reply.started": "2024-10-12T08:55:33.072832Z"
    },
    "tags": []
   },
   "outputs": [],
   "source": [
    "emoji_frequencies_df = pd.DataFrame(list(emoji_frequencies.items()), columns=['emoji', 'frequency'])"
   ]
  },
  {
   "cell_type": "code",
   "execution_count": 44,
   "id": "c7ddb911-e06a-49c9-a715-bb3c2433ca60",
   "metadata": {
    "execution": {
     "iopub.execute_input": "2024-10-12T08:55:33.140236Z",
     "iopub.status.busy": "2024-10-12T08:55:33.139107Z",
     "iopub.status.idle": "2024-10-12T08:55:33.174852Z",
     "shell.execute_reply": "2024-10-12T08:55:33.174075Z",
     "shell.execute_reply.started": "2024-10-12T08:55:33.140198Z"
    },
    "tags": []
   },
   "outputs": [
    {
     "data": {
      "text/html": [
       "<div>\n",
       "<style scoped>\n",
       "    .dataframe tbody tr th:only-of-type {\n",
       "        vertical-align: middle;\n",
       "    }\n",
       "\n",
       "    .dataframe tbody tr th {\n",
       "        vertical-align: top;\n",
       "    }\n",
       "\n",
       "    .dataframe thead th {\n",
       "        text-align: right;\n",
       "    }\n",
       "</style>\n",
       "<table border=\"1\" class=\"dataframe\">\n",
       "  <thead>\n",
       "    <tr style=\"text-align: right;\">\n",
       "      <th></th>\n",
       "      <th>emoji</th>\n",
       "      <th>frequency</th>\n",
       "    </tr>\n",
       "  </thead>\n",
       "  <tbody>\n",
       "    <tr>\n",
       "      <th>0</th>\n",
       "      <td>❤</td>\n",
       "      <td>0.087197</td>\n",
       "    </tr>\n",
       "    <tr>\n",
       "      <th>1</th>\n",
       "      <td>😱</td>\n",
       "      <td>0.057628</td>\n",
       "    </tr>\n",
       "    <tr>\n",
       "      <th>2</th>\n",
       "      <td>😁</td>\n",
       "      <td>0.092418</td>\n",
       "    </tr>\n",
       "    <tr>\n",
       "      <th>3</th>\n",
       "      <td>None</td>\n",
       "      <td>0.000762</td>\n",
       "    </tr>\n",
       "    <tr>\n",
       "      <th>4</th>\n",
       "      <td>👍</td>\n",
       "      <td>0.254689</td>\n",
       "    </tr>\n",
       "  </tbody>\n",
       "</table>\n",
       "</div>"
      ],
      "text/plain": [
       "  emoji  frequency\n",
       "0     ❤   0.087197\n",
       "1     😱   0.057628\n",
       "2     😁   0.092418\n",
       "3  None   0.000762\n",
       "4     👍   0.254689"
      ]
     },
     "execution_count": 44,
     "metadata": {},
     "output_type": "execute_result"
    }
   ],
   "source": [
    "emoji_frequencies_df.head()"
   ]
  },
  {
   "cell_type": "code",
   "execution_count": 45,
   "id": "a12d7381-f986-431b-8f06-7f6774a5302f",
   "metadata": {
    "execution": {
     "iopub.execute_input": "2024-10-12T08:55:33.176744Z",
     "iopub.status.busy": "2024-10-12T08:55:33.176013Z",
     "iopub.status.idle": "2024-10-12T08:55:33.206678Z",
     "shell.execute_reply": "2024-10-12T08:55:33.205883Z",
     "shell.execute_reply.started": "2024-10-12T08:55:33.176710Z"
    },
    "tags": []
   },
   "outputs": [],
   "source": [
    "merged_df = pd.merge(emoji_frequencies_df, emoji_classes_df, on='emoji')"
   ]
  },
  {
   "cell_type": "markdown",
   "id": "7f0b0ab6-36ed-4aac-bcd8-bc7269fe5ff9",
   "metadata": {},
   "source": [
    "### Вычисляем ранги для каждого класса отдельно"
   ]
  },
  {
   "cell_type": "code",
   "execution_count": 46,
   "id": "6c133d88-36e1-4d97-8bea-b01093355741",
   "metadata": {
    "execution": {
     "iopub.execute_input": "2024-10-12T08:55:33.209166Z",
     "iopub.status.busy": "2024-10-12T08:55:33.207651Z",
     "iopub.status.idle": "2024-10-12T08:55:33.259926Z",
     "shell.execute_reply": "2024-10-12T08:55:33.259055Z",
     "shell.execute_reply.started": "2024-10-12T08:55:33.209132Z"
    },
    "tags": []
   },
   "outputs": [],
   "source": [
    "merged_df['rank'] = merged_df.groupby('sentiment')['frequency'].rank(ascending=False, method='min').astype(int)"
   ]
  },
  {
   "cell_type": "code",
   "execution_count": 47,
   "id": "c154a89f-7e07-4aca-9ae3-ac36b681fc59",
   "metadata": {
    "execution": {
     "iopub.execute_input": "2024-10-12T08:55:33.261959Z",
     "iopub.status.busy": "2024-10-12T08:55:33.260985Z",
     "iopub.status.idle": "2024-10-12T08:55:33.274910Z",
     "shell.execute_reply": "2024-10-12T08:55:33.274218Z",
     "shell.execute_reply.started": "2024-10-12T08:55:33.261920Z"
    },
    "tags": []
   },
   "outputs": [],
   "source": [
    "merged_df = merged_df.sort_values(by=['sentiment', 'rank']).reset_index(drop=True)"
   ]
  },
  {
   "cell_type": "code",
   "execution_count": 48,
   "id": "6d22f5ab-6597-4c34-ac3c-ca8b6d271e5a",
   "metadata": {
    "execution": {
     "iopub.execute_input": "2024-10-12T08:55:33.276487Z",
     "iopub.status.busy": "2024-10-12T08:55:33.276014Z",
     "iopub.status.idle": "2024-10-12T08:55:33.318397Z",
     "shell.execute_reply": "2024-10-12T08:55:33.317587Z",
     "shell.execute_reply.started": "2024-10-12T08:55:33.276450Z"
    },
    "tags": []
   },
   "outputs": [
    {
     "data": {
      "text/html": [
       "<div>\n",
       "<style scoped>\n",
       "    .dataframe tbody tr th:only-of-type {\n",
       "        vertical-align: middle;\n",
       "    }\n",
       "\n",
       "    .dataframe tbody tr th {\n",
       "        vertical-align: top;\n",
       "    }\n",
       "\n",
       "    .dataframe thead th {\n",
       "        text-align: right;\n",
       "    }\n",
       "</style>\n",
       "<table border=\"1\" class=\"dataframe\">\n",
       "  <thead>\n",
       "    <tr style=\"text-align: right;\">\n",
       "      <th></th>\n",
       "      <th>emoji</th>\n",
       "      <th>frequency</th>\n",
       "      <th>cluster</th>\n",
       "      <th>sentiment</th>\n",
       "      <th>rank</th>\n",
       "    </tr>\n",
       "  </thead>\n",
       "  <tbody>\n",
       "    <tr>\n",
       "      <th>0</th>\n",
       "      <td>🤬</td>\n",
       "      <td>0.138716</td>\n",
       "      <td>2</td>\n",
       "      <td>NEGATIVE</td>\n",
       "      <td>1</td>\n",
       "    </tr>\n",
       "    <tr>\n",
       "      <th>1</th>\n",
       "      <td>😱</td>\n",
       "      <td>0.057628</td>\n",
       "      <td>2</td>\n",
       "      <td>NEGATIVE</td>\n",
       "      <td>2</td>\n",
       "    </tr>\n",
       "    <tr>\n",
       "      <th>2</th>\n",
       "      <td>😢</td>\n",
       "      <td>0.044456</td>\n",
       "      <td>2</td>\n",
       "      <td>NEGATIVE</td>\n",
       "      <td>3</td>\n",
       "    </tr>\n",
       "    <tr>\n",
       "      <th>3</th>\n",
       "      <td>🙏</td>\n",
       "      <td>0.032609</td>\n",
       "      <td>2</td>\n",
       "      <td>NEGATIVE</td>\n",
       "      <td>4</td>\n",
       "    </tr>\n",
       "    <tr>\n",
       "      <th>4</th>\n",
       "      <td>👎</td>\n",
       "      <td>0.025176</td>\n",
       "      <td>2</td>\n",
       "      <td>NEGATIVE</td>\n",
       "      <td>5</td>\n",
       "    </tr>\n",
       "    <tr>\n",
       "      <th>...</th>\n",
       "      <td>...</td>\n",
       "      <td>...</td>\n",
       "      <td>...</td>\n",
       "      <td>...</td>\n",
       "      <td>...</td>\n",
       "    </tr>\n",
       "    <tr>\n",
       "      <th>63</th>\n",
       "      <td>🤗</td>\n",
       "      <td>0.000011</td>\n",
       "      <td>0</td>\n",
       "      <td>POSITIVE</td>\n",
       "      <td>20</td>\n",
       "    </tr>\n",
       "    <tr>\n",
       "      <th>64</th>\n",
       "      <td>🎅</td>\n",
       "      <td>0.000010</td>\n",
       "      <td>0</td>\n",
       "      <td>POSITIVE</td>\n",
       "      <td>21</td>\n",
       "    </tr>\n",
       "    <tr>\n",
       "      <th>65</th>\n",
       "      <td>💘</td>\n",
       "      <td>0.000009</td>\n",
       "      <td>0</td>\n",
       "      <td>POSITIVE</td>\n",
       "      <td>22</td>\n",
       "    </tr>\n",
       "    <tr>\n",
       "      <th>66</th>\n",
       "      <td>😘</td>\n",
       "      <td>0.000006</td>\n",
       "      <td>0</td>\n",
       "      <td>POSITIVE</td>\n",
       "      <td>23</td>\n",
       "    </tr>\n",
       "    <tr>\n",
       "      <th>67</th>\n",
       "      <td>💋</td>\n",
       "      <td>0.000005</td>\n",
       "      <td>0</td>\n",
       "      <td>POSITIVE</td>\n",
       "      <td>24</td>\n",
       "    </tr>\n",
       "  </tbody>\n",
       "</table>\n",
       "<p>68 rows × 5 columns</p>\n",
       "</div>"
      ],
      "text/plain": [
       "   emoji  frequency  cluster sentiment  rank\n",
       "0      🤬   0.138716        2  NEGATIVE     1\n",
       "1      😱   0.057628        2  NEGATIVE     2\n",
       "2      😢   0.044456        2  NEGATIVE     3\n",
       "3      🙏   0.032609        2  NEGATIVE     4\n",
       "4      👎   0.025176        2  NEGATIVE     5\n",
       "..   ...        ...      ...       ...   ...\n",
       "63     🤗   0.000011        0  POSITIVE    20\n",
       "64     🎅   0.000010        0  POSITIVE    21\n",
       "65     💘   0.000009        0  POSITIVE    22\n",
       "66     😘   0.000006        0  POSITIVE    23\n",
       "67     💋   0.000005        0  POSITIVE    24\n",
       "\n",
       "[68 rows x 5 columns]"
      ]
     },
     "execution_count": 48,
     "metadata": {},
     "output_type": "execute_result"
    }
   ],
   "source": [
    "merged_df"
   ]
  },
  {
   "cell_type": "markdown",
   "id": "9a38ede7-574e-4f5e-b9db-3f9b4c0c862e",
   "metadata": {},
   "source": [
    "### Т.к. значения весов слишком большие, то все реакции будут стремиться к нейтральным, поэтому необходимо нормализовать веса"
   ]
  },
  {
   "cell_type": "code",
   "execution_count": 49,
   "id": "04e49980-79ce-4632-ad3a-2d512d4ef410",
   "metadata": {
    "execution": {
     "iopub.execute_input": "2024-10-12T08:55:33.320699Z",
     "iopub.status.busy": "2024-10-12T08:55:33.319391Z",
     "iopub.status.idle": "2024-10-12T08:55:33.347531Z",
     "shell.execute_reply": "2024-10-12T08:55:33.346687Z",
     "shell.execute_reply.started": "2024-10-12T08:55:33.320658Z"
    },
    "tags": []
   },
   "outputs": [],
   "source": [
    "def normalize_rank(rank, step=0.05):\n",
    "    return round(1 - (rank - 1) * step, 3)"
   ]
  },
  {
   "cell_type": "code",
   "execution_count": 50,
   "id": "0b1d485a-a23b-4765-bf79-a44cb5ddf985",
   "metadata": {
    "execution": {
     "iopub.execute_input": "2024-10-12T08:55:33.349358Z",
     "iopub.status.busy": "2024-10-12T08:55:33.348434Z",
     "iopub.status.idle": "2024-10-12T08:55:33.361381Z",
     "shell.execute_reply": "2024-10-12T08:55:33.360771Z",
     "shell.execute_reply.started": "2024-10-12T08:55:33.349327Z"
    },
    "tags": []
   },
   "outputs": [],
   "source": [
    "merged_df['normalized_rank'] = merged_df.groupby('sentiment')['rank'].transform(lambda r: normalize_rank(r, step=0.025))"
   ]
  },
  {
   "cell_type": "code",
   "execution_count": 51,
   "id": "d8e528ba-e568-42ea-9f06-def544f2cd23",
   "metadata": {
    "execution": {
     "iopub.execute_input": "2024-10-12T08:55:33.363199Z",
     "iopub.status.busy": "2024-10-12T08:55:33.362200Z",
     "iopub.status.idle": "2024-10-12T08:55:33.377519Z",
     "shell.execute_reply": "2024-10-12T08:55:33.376724Z",
     "shell.execute_reply.started": "2024-10-12T08:55:33.363148Z"
    },
    "tags": []
   },
   "outputs": [],
   "source": [
    "merged_df = merged_df.sort_values(by=['sentiment', 'rank']).reset_index(drop=True)"
   ]
  },
  {
   "cell_type": "code",
   "execution_count": 52,
   "id": "80862b95-d0c6-49db-8157-e840862eb536",
   "metadata": {
    "execution": {
     "iopub.execute_input": "2024-10-12T08:55:33.379372Z",
     "iopub.status.busy": "2024-10-12T08:55:33.378353Z",
     "iopub.status.idle": "2024-10-12T08:55:33.405954Z",
     "shell.execute_reply": "2024-10-12T08:55:33.405204Z",
     "shell.execute_reply.started": "2024-10-12T08:55:33.379336Z"
    },
    "tags": []
   },
   "outputs": [
    {
     "data": {
      "text/html": [
       "<div>\n",
       "<style scoped>\n",
       "    .dataframe tbody tr th:only-of-type {\n",
       "        vertical-align: middle;\n",
       "    }\n",
       "\n",
       "    .dataframe tbody tr th {\n",
       "        vertical-align: top;\n",
       "    }\n",
       "\n",
       "    .dataframe thead th {\n",
       "        text-align: right;\n",
       "    }\n",
       "</style>\n",
       "<table border=\"1\" class=\"dataframe\">\n",
       "  <thead>\n",
       "    <tr style=\"text-align: right;\">\n",
       "      <th></th>\n",
       "      <th>emoji</th>\n",
       "      <th>frequency</th>\n",
       "      <th>cluster</th>\n",
       "      <th>sentiment</th>\n",
       "      <th>rank</th>\n",
       "      <th>normalized_rank</th>\n",
       "    </tr>\n",
       "  </thead>\n",
       "  <tbody>\n",
       "    <tr>\n",
       "      <th>0</th>\n",
       "      <td>🤬</td>\n",
       "      <td>0.138716</td>\n",
       "      <td>2</td>\n",
       "      <td>NEGATIVE</td>\n",
       "      <td>1</td>\n",
       "      <td>1.000</td>\n",
       "    </tr>\n",
       "    <tr>\n",
       "      <th>1</th>\n",
       "      <td>😱</td>\n",
       "      <td>0.057628</td>\n",
       "      <td>2</td>\n",
       "      <td>NEGATIVE</td>\n",
       "      <td>2</td>\n",
       "      <td>0.975</td>\n",
       "    </tr>\n",
       "    <tr>\n",
       "      <th>2</th>\n",
       "      <td>😢</td>\n",
       "      <td>0.044456</td>\n",
       "      <td>2</td>\n",
       "      <td>NEGATIVE</td>\n",
       "      <td>3</td>\n",
       "      <td>0.950</td>\n",
       "    </tr>\n",
       "    <tr>\n",
       "      <th>3</th>\n",
       "      <td>🙏</td>\n",
       "      <td>0.032609</td>\n",
       "      <td>2</td>\n",
       "      <td>NEGATIVE</td>\n",
       "      <td>4</td>\n",
       "      <td>0.925</td>\n",
       "    </tr>\n",
       "    <tr>\n",
       "      <th>4</th>\n",
       "      <td>👎</td>\n",
       "      <td>0.025176</td>\n",
       "      <td>2</td>\n",
       "      <td>NEGATIVE</td>\n",
       "      <td>5</td>\n",
       "      <td>0.900</td>\n",
       "    </tr>\n",
       "    <tr>\n",
       "      <th>...</th>\n",
       "      <td>...</td>\n",
       "      <td>...</td>\n",
       "      <td>...</td>\n",
       "      <td>...</td>\n",
       "      <td>...</td>\n",
       "      <td>...</td>\n",
       "    </tr>\n",
       "    <tr>\n",
       "      <th>63</th>\n",
       "      <td>🤗</td>\n",
       "      <td>0.000011</td>\n",
       "      <td>0</td>\n",
       "      <td>POSITIVE</td>\n",
       "      <td>20</td>\n",
       "      <td>0.525</td>\n",
       "    </tr>\n",
       "    <tr>\n",
       "      <th>64</th>\n",
       "      <td>🎅</td>\n",
       "      <td>0.000010</td>\n",
       "      <td>0</td>\n",
       "      <td>POSITIVE</td>\n",
       "      <td>21</td>\n",
       "      <td>0.500</td>\n",
       "    </tr>\n",
       "    <tr>\n",
       "      <th>65</th>\n",
       "      <td>💘</td>\n",
       "      <td>0.000009</td>\n",
       "      <td>0</td>\n",
       "      <td>POSITIVE</td>\n",
       "      <td>22</td>\n",
       "      <td>0.475</td>\n",
       "    </tr>\n",
       "    <tr>\n",
       "      <th>66</th>\n",
       "      <td>😘</td>\n",
       "      <td>0.000006</td>\n",
       "      <td>0</td>\n",
       "      <td>POSITIVE</td>\n",
       "      <td>23</td>\n",
       "      <td>0.450</td>\n",
       "    </tr>\n",
       "    <tr>\n",
       "      <th>67</th>\n",
       "      <td>💋</td>\n",
       "      <td>0.000005</td>\n",
       "      <td>0</td>\n",
       "      <td>POSITIVE</td>\n",
       "      <td>24</td>\n",
       "      <td>0.425</td>\n",
       "    </tr>\n",
       "  </tbody>\n",
       "</table>\n",
       "<p>68 rows × 6 columns</p>\n",
       "</div>"
      ],
      "text/plain": [
       "   emoji  frequency  cluster sentiment  rank  normalized_rank\n",
       "0      🤬   0.138716        2  NEGATIVE     1            1.000\n",
       "1      😱   0.057628        2  NEGATIVE     2            0.975\n",
       "2      😢   0.044456        2  NEGATIVE     3            0.950\n",
       "3      🙏   0.032609        2  NEGATIVE     4            0.925\n",
       "4      👎   0.025176        2  NEGATIVE     5            0.900\n",
       "..   ...        ...      ...       ...   ...              ...\n",
       "63     🤗   0.000011        0  POSITIVE    20            0.525\n",
       "64     🎅   0.000010        0  POSITIVE    21            0.500\n",
       "65     💘   0.000009        0  POSITIVE    22            0.475\n",
       "66     😘   0.000006        0  POSITIVE    23            0.450\n",
       "67     💋   0.000005        0  POSITIVE    24            0.425\n",
       "\n",
       "[68 rows x 6 columns]"
      ]
     },
     "execution_count": 52,
     "metadata": {},
     "output_type": "execute_result"
    }
   ],
   "source": [
    "merged_df"
   ]
  },
  {
   "cell_type": "code",
   "execution_count": 53,
   "id": "b7679833-ba51-4855-ac1d-a22027759a55",
   "metadata": {
    "execution": {
     "iopub.execute_input": "2024-10-12T08:55:33.407799Z",
     "iopub.status.busy": "2024-10-12T08:55:33.406868Z",
     "iopub.status.idle": "2024-10-12T08:55:33.440869Z",
     "shell.execute_reply": "2024-10-12T08:55:33.440131Z",
     "shell.execute_reply.started": "2024-10-12T08:55:33.407769Z"
    },
    "tags": []
   },
   "outputs": [
    {
     "data": {
      "text/html": [
       "<div>\n",
       "<style scoped>\n",
       "    .dataframe tbody tr th:only-of-type {\n",
       "        vertical-align: middle;\n",
       "    }\n",
       "\n",
       "    .dataframe tbody tr th {\n",
       "        vertical-align: top;\n",
       "    }\n",
       "\n",
       "    .dataframe thead th {\n",
       "        text-align: right;\n",
       "    }\n",
       "</style>\n",
       "<table border=\"1\" class=\"dataframe\">\n",
       "  <thead>\n",
       "    <tr style=\"text-align: right;\">\n",
       "      <th></th>\n",
       "      <th>emoji</th>\n",
       "      <th>frequency</th>\n",
       "      <th>cluster</th>\n",
       "      <th>sentiment</th>\n",
       "      <th>rank</th>\n",
       "      <th>normalized_rank</th>\n",
       "    </tr>\n",
       "  </thead>\n",
       "  <tbody>\n",
       "    <tr>\n",
       "      <th>0</th>\n",
       "      <td>🤬</td>\n",
       "      <td>0.138716</td>\n",
       "      <td>2</td>\n",
       "      <td>NEGATIVE</td>\n",
       "      <td>1</td>\n",
       "      <td>1.000</td>\n",
       "    </tr>\n",
       "    <tr>\n",
       "      <th>1</th>\n",
       "      <td>😱</td>\n",
       "      <td>0.057628</td>\n",
       "      <td>2</td>\n",
       "      <td>NEGATIVE</td>\n",
       "      <td>2</td>\n",
       "      <td>0.975</td>\n",
       "    </tr>\n",
       "    <tr>\n",
       "      <th>2</th>\n",
       "      <td>😢</td>\n",
       "      <td>0.044456</td>\n",
       "      <td>2</td>\n",
       "      <td>NEGATIVE</td>\n",
       "      <td>3</td>\n",
       "      <td>0.950</td>\n",
       "    </tr>\n",
       "    <tr>\n",
       "      <th>3</th>\n",
       "      <td>🙏</td>\n",
       "      <td>0.032609</td>\n",
       "      <td>2</td>\n",
       "      <td>NEGATIVE</td>\n",
       "      <td>4</td>\n",
       "      <td>0.925</td>\n",
       "    </tr>\n",
       "    <tr>\n",
       "      <th>4</th>\n",
       "      <td>👎</td>\n",
       "      <td>0.025176</td>\n",
       "      <td>2</td>\n",
       "      <td>NEGATIVE</td>\n",
       "      <td>5</td>\n",
       "      <td>0.900</td>\n",
       "    </tr>\n",
       "    <tr>\n",
       "      <th>5</th>\n",
       "      <td>🤯</td>\n",
       "      <td>0.009926</td>\n",
       "      <td>2</td>\n",
       "      <td>NEGATIVE</td>\n",
       "      <td>6</td>\n",
       "      <td>0.875</td>\n",
       "    </tr>\n",
       "    <tr>\n",
       "      <th>6</th>\n",
       "      <td>🤮</td>\n",
       "      <td>0.006719</td>\n",
       "      <td>2</td>\n",
       "      <td>NEGATIVE</td>\n",
       "      <td>7</td>\n",
       "      <td>0.850</td>\n",
       "    </tr>\n",
       "    <tr>\n",
       "      <th>7</th>\n",
       "      <td>😭</td>\n",
       "      <td>0.005674</td>\n",
       "      <td>2</td>\n",
       "      <td>NEGATIVE</td>\n",
       "      <td>8</td>\n",
       "      <td>0.825</td>\n",
       "    </tr>\n",
       "    <tr>\n",
       "      <th>8</th>\n",
       "      <td>😡</td>\n",
       "      <td>0.003816</td>\n",
       "      <td>2</td>\n",
       "      <td>NEGATIVE</td>\n",
       "      <td>9</td>\n",
       "      <td>0.800</td>\n",
       "    </tr>\n",
       "    <tr>\n",
       "      <th>9</th>\n",
       "      <td>🖕</td>\n",
       "      <td>0.001468</td>\n",
       "      <td>2</td>\n",
       "      <td>NEGATIVE</td>\n",
       "      <td>10</td>\n",
       "      <td>0.775</td>\n",
       "    </tr>\n",
       "    <tr>\n",
       "      <th>10</th>\n",
       "      <td>💔</td>\n",
       "      <td>0.000794</td>\n",
       "      <td>2</td>\n",
       "      <td>NEGATIVE</td>\n",
       "      <td>11</td>\n",
       "      <td>0.750</td>\n",
       "    </tr>\n",
       "    <tr>\n",
       "      <th>11</th>\n",
       "      <td>😨</td>\n",
       "      <td>0.000462</td>\n",
       "      <td>2</td>\n",
       "      <td>NEGATIVE</td>\n",
       "      <td>12</td>\n",
       "      <td>0.725</td>\n",
       "    </tr>\n",
       "    <tr>\n",
       "      <th>12</th>\n",
       "      <td>🙊</td>\n",
       "      <td>0.000320</td>\n",
       "      <td>2</td>\n",
       "      <td>NEGATIVE</td>\n",
       "      <td>13</td>\n",
       "      <td>0.700</td>\n",
       "    </tr>\n",
       "    <tr>\n",
       "      <th>13</th>\n",
       "      <td>🥴</td>\n",
       "      <td>0.000270</td>\n",
       "      <td>2</td>\n",
       "      <td>NEGATIVE</td>\n",
       "      <td>14</td>\n",
       "      <td>0.675</td>\n",
       "    </tr>\n",
       "  </tbody>\n",
       "</table>\n",
       "</div>"
      ],
      "text/plain": [
       "   emoji  frequency  cluster sentiment  rank  normalized_rank\n",
       "0      🤬   0.138716        2  NEGATIVE     1            1.000\n",
       "1      😱   0.057628        2  NEGATIVE     2            0.975\n",
       "2      😢   0.044456        2  NEGATIVE     3            0.950\n",
       "3      🙏   0.032609        2  NEGATIVE     4            0.925\n",
       "4      👎   0.025176        2  NEGATIVE     5            0.900\n",
       "5      🤯   0.009926        2  NEGATIVE     6            0.875\n",
       "6      🤮   0.006719        2  NEGATIVE     7            0.850\n",
       "7      😭   0.005674        2  NEGATIVE     8            0.825\n",
       "8      😡   0.003816        2  NEGATIVE     9            0.800\n",
       "9      🖕   0.001468        2  NEGATIVE    10            0.775\n",
       "10     💔   0.000794        2  NEGATIVE    11            0.750\n",
       "11     😨   0.000462        2  NEGATIVE    12            0.725\n",
       "12     🙊   0.000320        2  NEGATIVE    13            0.700\n",
       "13     🥴   0.000270        2  NEGATIVE    14            0.675"
      ]
     },
     "execution_count": 53,
     "metadata": {},
     "output_type": "execute_result"
    }
   ],
   "source": [
    "merged_df[merged_df['sentiment']=='NEGATIVE']"
   ]
  },
  {
   "cell_type": "code",
   "execution_count": 54,
   "id": "119df066-a34c-46c7-a781-37d61c7d383b",
   "metadata": {
    "execution": {
     "iopub.execute_input": "2024-10-12T08:55:33.442468Z",
     "iopub.status.busy": "2024-10-12T08:55:33.441738Z",
     "iopub.status.idle": "2024-10-12T08:55:33.463637Z",
     "shell.execute_reply": "2024-10-12T08:55:33.462853Z",
     "shell.execute_reply.started": "2024-10-12T08:55:33.442277Z"
    },
    "tags": []
   },
   "outputs": [],
   "source": [
    "emoji_ranks_dict = merged_df[['emoji', 'normalized_rank']].set_index('emoji').T.to_dict('records')[0]"
   ]
  },
  {
   "cell_type": "markdown",
   "id": "2f6450c0-ee71-46d6-9fae-cc07b7a7a67b",
   "metadata": {},
   "source": [
    "### Оставляем только нужные колонки"
   ]
  },
  {
   "cell_type": "code",
   "execution_count": 55,
   "id": "d3a706a8-b273-4813-80a9-2ec41d6abaff",
   "metadata": {
    "execution": {
     "iopub.execute_input": "2024-10-12T08:55:33.465677Z",
     "iopub.status.busy": "2024-10-12T08:55:33.464608Z",
     "iopub.status.idle": "2024-10-12T08:55:33.484842Z",
     "shell.execute_reply": "2024-10-12T08:55:33.484047Z",
     "shell.execute_reply.started": "2024-10-12T08:55:33.465648Z"
    },
    "tags": []
   },
   "outputs": [],
   "source": [
    "train_df = telegram_df[['post', 'reactions']]"
   ]
  },
  {
   "cell_type": "markdown",
   "id": "c8f915eb-26a6-45a2-9bd6-454040e7e6a9",
   "metadata": {},
   "source": [
    "### Очищаем текстовые данные от всякого мусора"
   ]
  },
  {
   "cell_type": "code",
   "execution_count": 56,
   "id": "4a90040b-cff7-4f7d-a1a0-814494401e3e",
   "metadata": {
    "execution": {
     "iopub.execute_input": "2024-10-12T08:55:33.486923Z",
     "iopub.status.busy": "2024-10-12T08:55:33.485912Z",
     "iopub.status.idle": "2024-10-12T08:55:33.518643Z",
     "shell.execute_reply": "2024-10-12T08:55:33.517887Z",
     "shell.execute_reply.started": "2024-10-12T08:55:33.486894Z"
    },
    "tags": []
   },
   "outputs": [],
   "source": [
    "stop_words = set(nltk.corpus.stopwords.words('russian'))"
   ]
  },
  {
   "cell_type": "code",
   "execution_count": 57,
   "id": "c0fde303-dcdf-4459-94fc-0fa2995d1193",
   "metadata": {
    "execution": {
     "iopub.execute_input": "2024-10-12T08:55:33.520019Z",
     "iopub.status.busy": "2024-10-12T08:55:33.519453Z",
     "iopub.status.idle": "2024-10-12T08:55:33.545005Z",
     "shell.execute_reply": "2024-10-12T08:55:33.544167Z",
     "shell.execute_reply.started": "2024-10-12T08:55:33.519984Z"
    },
    "tags": []
   },
   "outputs": [],
   "source": [
    "def clean_text(text):\n",
    "    text = text.lower()\n",
    "    text = text.translate(str.maketrans('', '', string.punctuation))\n",
    "    words = nltk.word_tokenize(text)\n",
    "    words = [word for word in words if word not in stop_words and word.isalpha()]\n",
    "    \n",
    "    return words"
   ]
  },
  {
   "cell_type": "code",
   "execution_count": 58,
   "id": "e2d3ba80-73b7-43c5-b939-ae60225c0f37",
   "metadata": {
    "execution": {
     "iopub.execute_input": "2024-10-12T08:55:33.546622Z",
     "iopub.status.busy": "2024-10-12T08:55:33.545874Z",
     "iopub.status.idle": "2024-10-12T09:08:06.633270Z",
     "shell.execute_reply": "2024-10-12T09:08:06.632444Z",
     "shell.execute_reply.started": "2024-10-12T08:55:33.546593Z"
    },
    "tags": []
   },
   "outputs": [
    {
     "name": "stderr",
     "output_type": "stream",
     "text": [
      "/tmp/ipykernel_3202/1779771069.py:1: SettingWithCopyWarning: \n",
      "A value is trying to be set on a copy of a slice from a DataFrame.\n",
      "Try using .loc[row_indexer,col_indexer] = value instead\n",
      "\n",
      "See the caveats in the documentation: https://pandas.pydata.org/pandas-docs/stable/user_guide/indexing.html#returning-a-view-versus-a-copy\n",
      "  train_df['text'] = train_df['post'].apply(\n"
     ]
    }
   ],
   "source": [
    "train_df['text'] = train_df['post'].apply(\n",
    "    lambda x: demoji.replace(x, \"\")\n",
    ")"
   ]
  },
  {
   "cell_type": "code",
   "execution_count": 59,
   "id": "9bc93e62-dc63-4d0a-802d-943ab28b38b3",
   "metadata": {
    "execution": {
     "iopub.execute_input": "2024-10-12T09:08:06.635047Z",
     "iopub.status.busy": "2024-10-12T09:08:06.634192Z",
     "iopub.status.idle": "2024-10-12T09:09:26.472761Z",
     "shell.execute_reply": "2024-10-12T09:09:26.471975Z",
     "shell.execute_reply.started": "2024-10-12T09:08:06.635008Z"
    },
    "tags": []
   },
   "outputs": [
    {
     "name": "stderr",
     "output_type": "stream",
     "text": [
      "/tmp/ipykernel_3202/4076591217.py:1: SettingWithCopyWarning: \n",
      "A value is trying to be set on a copy of a slice from a DataFrame.\n",
      "Try using .loc[row_indexer,col_indexer] = value instead\n",
      "\n",
      "See the caveats in the documentation: https://pandas.pydata.org/pandas-docs/stable/user_guide/indexing.html#returning-a-view-versus-a-copy\n",
      "  train_df['text'] = train_df['text'].apply(\n"
     ]
    }
   ],
   "source": [
    "train_df['text'] = train_df['text'].apply(\n",
    "    lambda x: clean_text(x)\n",
    ")"
   ]
  },
  {
   "cell_type": "code",
   "execution_count": 60,
   "id": "62b49ba0-aba0-44c8-9709-8a8203de7e81",
   "metadata": {
    "execution": {
     "iopub.execute_input": "2024-10-12T09:09:26.474686Z",
     "iopub.status.busy": "2024-10-12T09:09:26.473778Z",
     "iopub.status.idle": "2024-10-12T09:09:27.248498Z",
     "shell.execute_reply": "2024-10-12T09:09:27.247679Z",
     "shell.execute_reply.started": "2024-10-12T09:09:26.474647Z"
    },
    "tags": []
   },
   "outputs": [
    {
     "name": "stderr",
     "output_type": "stream",
     "text": [
      "/tmp/ipykernel_3202/1830638885.py:1: SettingWithCopyWarning: \n",
      "A value is trying to be set on a copy of a slice from a DataFrame.\n",
      "Try using .loc[row_indexer,col_indexer] = value instead\n",
      "\n",
      "See the caveats in the documentation: https://pandas.pydata.org/pandas-docs/stable/user_guide/indexing.html#returning-a-view-versus-a-copy\n",
      "  train_df['text'] = train_df['text'].apply(\n"
     ]
    }
   ],
   "source": [
    "train_df['text'] = train_df['text'].apply(\n",
    "    lambda x: ' '.join(x)\n",
    ")"
   ]
  },
  {
   "cell_type": "markdown",
   "id": "70ca4859-5be1-456d-be33-f75c4e3c892a",
   "metadata": {},
   "source": [
    "### Не забываем про шумные слова!"
   ]
  },
  {
   "cell_type": "code",
   "execution_count": 61,
   "id": "4dcad9ad-59a3-46f0-9ed0-2f50d7965fb0",
   "metadata": {
    "execution": {
     "iopub.execute_input": "2024-10-12T09:09:27.250714Z",
     "iopub.status.busy": "2024-10-12T09:09:27.249520Z",
     "iopub.status.idle": "2024-10-12T09:09:27.259906Z",
     "shell.execute_reply": "2024-10-12T09:09:27.259209Z",
     "shell.execute_reply.started": "2024-10-12T09:09:27.250676Z"
    },
    "tags": []
   },
   "outputs": [],
   "source": [
    "def delete_noisy_words(text):\n",
    "    words_to_delete = ['подписаться', 'прислать', 'shot', 'rgrunews',\n",
    "                      'моргенштерн', 'ntvnews', 'uraru', 'telegram',\n",
    "                      'подписывайтесь', 'подписывайся', 'ленту', 'впш']\n",
    "\n",
    "    for word in words_to_delete:\n",
    "        text = text.replace(word, ' ')\n",
    "    \n",
    "    return ' '.join(text.split())"
   ]
  },
  {
   "cell_type": "code",
   "execution_count": 62,
   "id": "5e859d2e-2221-4e15-b6ae-2f250faa6c79",
   "metadata": {
    "execution": {
     "iopub.execute_input": "2024-10-12T09:09:27.261849Z",
     "iopub.status.busy": "2024-10-12T09:09:27.260785Z",
     "iopub.status.idle": "2024-10-12T09:09:29.681369Z",
     "shell.execute_reply": "2024-10-12T09:09:29.680648Z",
     "shell.execute_reply.started": "2024-10-12T09:09:27.261809Z"
    },
    "tags": []
   },
   "outputs": [
    {
     "name": "stderr",
     "output_type": "stream",
     "text": [
      "/tmp/ipykernel_3202/3737310535.py:1: SettingWithCopyWarning: \n",
      "A value is trying to be set on a copy of a slice from a DataFrame.\n",
      "Try using .loc[row_indexer,col_indexer] = value instead\n",
      "\n",
      "See the caveats in the documentation: https://pandas.pydata.org/pandas-docs/stable/user_guide/indexing.html#returning-a-view-versus-a-copy\n",
      "  train_df['text'] = train_df['text'].apply(\n"
     ]
    }
   ],
   "source": [
    "train_df['text'] = train_df['text'].apply(\n",
    "    lambda x: delete_noisy_words(x)\n",
    ")"
   ]
  },
  {
   "cell_type": "code",
   "execution_count": 63,
   "id": "23f43382-d315-4dae-8d2c-6a303ea39943",
   "metadata": {
    "execution": {
     "iopub.execute_input": "2024-10-12T09:09:29.683301Z",
     "iopub.status.busy": "2024-10-12T09:09:29.682181Z",
     "iopub.status.idle": "2024-10-12T09:09:29.700275Z",
     "shell.execute_reply": "2024-10-12T09:09:29.699576Z",
     "shell.execute_reply.started": "2024-10-12T09:09:29.683264Z"
    },
    "tags": []
   },
   "outputs": [
    {
     "data": {
      "text/html": [
       "<div>\n",
       "<style scoped>\n",
       "    .dataframe tbody tr th:only-of-type {\n",
       "        vertical-align: middle;\n",
       "    }\n",
       "\n",
       "    .dataframe tbody tr th {\n",
       "        vertical-align: top;\n",
       "    }\n",
       "\n",
       "    .dataframe thead th {\n",
       "        text-align: right;\n",
       "    }\n",
       "</style>\n",
       "<table border=\"1\" class=\"dataframe\">\n",
       "  <thead>\n",
       "    <tr style=\"text-align: right;\">\n",
       "      <th></th>\n",
       "      <th>post</th>\n",
       "      <th>reactions</th>\n",
       "      <th>text</th>\n",
       "    </tr>\n",
       "  </thead>\n",
       "  <tbody>\n",
       "    <tr>\n",
       "      <th>0</th>\n",
       "      <td>К вам в палатку зашла кошка? Теперь это ваша к...</td>\n",
       "      <td>❤: 314, 😱: 20, 😁: 14, None: 13, 👍: 3, 🎉: 1, 🤮:...</td>\n",
       "      <td>палатку зашла кошка это ваша кошка живите этим</td>\n",
       "    </tr>\n",
       "    <tr>\n",
       "      <th>1</th>\n",
       "      <td>Невероятная техника рисования от Ричарда Бернера</td>\n",
       "      <td>👍: 1235, 😱: 290, ❤: 125, 😁: 14, 🗿: 11, 👎: 2, 🤡: 2</td>\n",
       "      <td>невероятная техника рисования ричарда бернера</td>\n",
       "    </tr>\n",
       "    <tr>\n",
       "      <th>2</th>\n",
       "      <td>На оф канале Not Pixel Channel выложили пост с...</td>\n",
       "      <td>👍: 1685, 🎉: 309, 😁: 154, 🤡: 68, ❤: 16, None: 1...</td>\n",
       "      <td>оф канале not pixel channel выложили пост видо...</td>\n",
       "    </tr>\n",
       "    <tr>\n",
       "      <th>3</th>\n",
       "      <td>На порках накатали рисунок 🤣 В игре всего пару...</td>\n",
       "      <td>👍: 984, ❤: 158, 🤡: 90, 😁: 58, 🤮: 14, 👎: 11, No...</td>\n",
       "      <td>порках накатали рисунок игре пару флагов уцеле...</td>\n",
       "    </tr>\n",
       "    <tr>\n",
       "      <th>4</th>\n",
       "      <td>Не ну ты вообще снимать умеешь? Давай ещё раз!</td>\n",
       "      <td>❤: 2372, 😁: 695, 👍: 97, 🤡: 12, 🤮: 6, 🗿: 6, 🙏: ...</td>\n",
       "      <td>вообще снимать умеешь давай ещё</td>\n",
       "    </tr>\n",
       "  </tbody>\n",
       "</table>\n",
       "</div>"
      ],
      "text/plain": [
       "                                                post  ...                                               text\n",
       "0  К вам в палатку зашла кошка? Теперь это ваша к...  ...     палатку зашла кошка это ваша кошка живите этим\n",
       "1   Невероятная техника рисования от Ричарда Бернера  ...      невероятная техника рисования ричарда бернера\n",
       "2  На оф канале Not Pixel Channel выложили пост с...  ...  оф канале not pixel channel выложили пост видо...\n",
       "3  На порках накатали рисунок 🤣 В игре всего пару...  ...  порках накатали рисунок игре пару флагов уцеле...\n",
       "4     Не ну ты вообще снимать умеешь? Давай ещё раз!  ...                    вообще снимать умеешь давай ещё\n",
       "\n",
       "[5 rows x 3 columns]"
      ]
     },
     "execution_count": 63,
     "metadata": {},
     "output_type": "execute_result"
    }
   ],
   "source": [
    "train_df.head()"
   ]
  },
  {
   "cell_type": "markdown",
   "id": "e1c5ffe4-7dc6-40b3-ab8f-2511eac527d6",
   "metadata": {},
   "source": [
    "### Получаем лэйблы"
   ]
  },
  {
   "cell_type": "code",
   "execution_count": 64,
   "id": "5690e2a9-5f2f-4cf8-86d0-2b5074b9a14a",
   "metadata": {
    "execution": {
     "iopub.execute_input": "2024-10-12T09:09:29.702356Z",
     "iopub.status.busy": "2024-10-12T09:09:29.701288Z",
     "iopub.status.idle": "2024-10-12T09:09:29.715283Z",
     "shell.execute_reply": "2024-10-12T09:09:29.714600Z",
     "shell.execute_reply.started": "2024-10-12T09:09:29.702317Z"
    },
    "tags": []
   },
   "outputs": [],
   "source": [
    "def get_label(reactions):\n",
    "    reactions_split = reactions.split(',')\n",
    "\n",
    "    positive_quantity = 0\n",
    "    negative_quantity = 0\n",
    "    quantity = 0\n",
    "    \n",
    "    for reaction in reactions_split:\n",
    "        data = reaction.split(':')\n",
    "        emoji = data[0].strip()\n",
    "        emoji_quantity = int(data[1].strip())\n",
    "\n",
    "        quantity += emoji_quantity\n",
    "\n",
    "        try:\n",
    "            if emoji_classes_dict[emoji] == 'POSITIVE':\n",
    "                positive_quantity += emoji_quantity * emoji_ranks_dict[emoji]\n",
    "            elif emoji_classes_dict[emoji] == 'NEGATIVE':\n",
    "                negative_quantity += emoji_quantity * emoji_ranks_dict[emoji]\n",
    "        except:\n",
    "            pass\n",
    "\n",
    "    result = round((positive_quantity - negative_quantity) / quantity, 2)\n",
    "        \n",
    "    return result"
   ]
  },
  {
   "cell_type": "code",
   "execution_count": 65,
   "id": "366427e1-2b0b-4163-9059-49c3602f0ddb",
   "metadata": {
    "execution": {
     "iopub.execute_input": "2024-10-12T09:09:29.716992Z",
     "iopub.status.busy": "2024-10-12T09:09:29.716216Z",
     "iopub.status.idle": "2024-10-12T09:09:31.518279Z",
     "shell.execute_reply": "2024-10-12T09:09:31.517473Z",
     "shell.execute_reply.started": "2024-10-12T09:09:29.716964Z"
    },
    "tags": []
   },
   "outputs": [
    {
     "name": "stderr",
     "output_type": "stream",
     "text": [
      "/tmp/ipykernel_3202/3591290988.py:1: SettingWithCopyWarning: \n",
      "A value is trying to be set on a copy of a slice from a DataFrame.\n",
      "Try using .loc[row_indexer,col_indexer] = value instead\n",
      "\n",
      "See the caveats in the documentation: https://pandas.pydata.org/pandas-docs/stable/user_guide/indexing.html#returning-a-view-versus-a-copy\n",
      "  train_df['label'] = train_df['reactions'].apply(\n"
     ]
    }
   ],
   "source": [
    "train_df['label'] = train_df['reactions'].apply(\n",
    "    lambda x: get_label(x)\n",
    ")"
   ]
  },
  {
   "cell_type": "code",
   "execution_count": 66,
   "id": "1b42ce5b-ed40-4873-bfa0-ca058cfd42af",
   "metadata": {
    "execution": {
     "iopub.execute_input": "2024-10-12T09:09:31.520407Z",
     "iopub.status.busy": "2024-10-12T09:09:31.519137Z",
     "iopub.status.idle": "2024-10-12T09:09:31.570352Z",
     "shell.execute_reply": "2024-10-12T09:09:31.569514Z",
     "shell.execute_reply.started": "2024-10-12T09:09:31.520364Z"
    },
    "tags": []
   },
   "outputs": [
    {
     "data": {
      "text/html": [
       "<div>\n",
       "<style scoped>\n",
       "    .dataframe tbody tr th:only-of-type {\n",
       "        vertical-align: middle;\n",
       "    }\n",
       "\n",
       "    .dataframe tbody tr th {\n",
       "        vertical-align: top;\n",
       "    }\n",
       "\n",
       "    .dataframe thead th {\n",
       "        text-align: right;\n",
       "    }\n",
       "</style>\n",
       "<table border=\"1\" class=\"dataframe\">\n",
       "  <thead>\n",
       "    <tr style=\"text-align: right;\">\n",
       "      <th></th>\n",
       "      <th>post</th>\n",
       "      <th>reactions</th>\n",
       "      <th>text</th>\n",
       "      <th>label</th>\n",
       "    </tr>\n",
       "  </thead>\n",
       "  <tbody>\n",
       "    <tr>\n",
       "      <th>0</th>\n",
       "      <td>К вам в палатку зашла кошка? Теперь это ваша к...</td>\n",
       "      <td>❤: 314, 😱: 20, 😁: 14, None: 13, 👍: 3, 🎉: 1, 🤮:...</td>\n",
       "      <td>палатку зашла кошка это ваша кошка живите этим</td>\n",
       "      <td>0.80</td>\n",
       "    </tr>\n",
       "    <tr>\n",
       "      <th>1</th>\n",
       "      <td>Невероятная техника рисования от Ричарда Бернера</td>\n",
       "      <td>👍: 1235, 😱: 290, ❤: 125, 😁: 14, 🗿: 11, 👎: 2, 🤡: 2</td>\n",
       "      <td>невероятная техника рисования ричарда бернера</td>\n",
       "      <td>0.64</td>\n",
       "    </tr>\n",
       "    <tr>\n",
       "      <th>2</th>\n",
       "      <td>На оф канале Not Pixel Channel выложили пост с...</td>\n",
       "      <td>👍: 1685, 🎉: 309, 😁: 154, 🤡: 68, ❤: 16, None: 1...</td>\n",
       "      <td>оф канале not pixel channel выложили пост видо...</td>\n",
       "      <td>0.92</td>\n",
       "    </tr>\n",
       "    <tr>\n",
       "      <th>3</th>\n",
       "      <td>На порках накатали рисунок 🤣 В игре всего пару...</td>\n",
       "      <td>👍: 984, ❤: 158, 🤡: 90, 😁: 58, 🤮: 14, 👎: 11, No...</td>\n",
       "      <td>порках накатали рисунок игре пару флагов уцеле...</td>\n",
       "      <td>0.86</td>\n",
       "    </tr>\n",
       "    <tr>\n",
       "      <th>4</th>\n",
       "      <td>Не ну ты вообще снимать умеешь? Давай ещё раз!</td>\n",
       "      <td>❤: 2372, 😁: 695, 👍: 97, 🤡: 12, 🤮: 6, 🗿: 6, 🙏: ...</td>\n",
       "      <td>вообще снимать умеешь давай ещё</td>\n",
       "      <td>0.95</td>\n",
       "    </tr>\n",
       "  </tbody>\n",
       "</table>\n",
       "</div>"
      ],
      "text/plain": [
       "                                                post  ... label\n",
       "0  К вам в палатку зашла кошка? Теперь это ваша к...  ...  0.80\n",
       "1   Невероятная техника рисования от Ричарда Бернера  ...  0.64\n",
       "2  На оф канале Not Pixel Channel выложили пост с...  ...  0.92\n",
       "3  На порках накатали рисунок 🤣 В игре всего пару...  ...  0.86\n",
       "4     Не ну ты вообще снимать умеешь? Давай ещё раз!  ...  0.95\n",
       "\n",
       "[5 rows x 4 columns]"
      ]
     },
     "execution_count": 66,
     "metadata": {},
     "output_type": "execute_result"
    }
   ],
   "source": [
    "train_df.head()"
   ]
  },
  {
   "cell_type": "code",
   "execution_count": 67,
   "id": "ef5634ed-f5d9-44a6-b546-f8e9bd64f7aa",
   "metadata": {
    "execution": {
     "iopub.execute_input": "2024-10-12T09:09:31.572573Z",
     "iopub.status.busy": "2024-10-12T09:09:31.571321Z",
     "iopub.status.idle": "2024-10-12T09:09:31.610277Z",
     "shell.execute_reply": "2024-10-12T09:09:31.609417Z",
     "shell.execute_reply.started": "2024-10-12T09:09:31.572530Z"
    },
    "tags": []
   },
   "outputs": [
    {
     "data": {
      "text/plain": [
       "1.0"
      ]
     },
     "execution_count": 67,
     "metadata": {},
     "output_type": "execute_result"
    }
   ],
   "source": [
    "train_df['label'].max()"
   ]
  },
  {
   "cell_type": "code",
   "execution_count": 68,
   "id": "3ada01dd-bca0-462b-9b1a-fa8b25da0974",
   "metadata": {
    "execution": {
     "iopub.execute_input": "2024-10-12T09:09:31.612279Z",
     "iopub.status.busy": "2024-10-12T09:09:31.611289Z",
     "iopub.status.idle": "2024-10-12T09:09:31.633704Z",
     "shell.execute_reply": "2024-10-12T09:09:31.632824Z",
     "shell.execute_reply.started": "2024-10-12T09:09:31.612237Z"
    },
    "tags": []
   },
   "outputs": [
    {
     "data": {
      "text/plain": [
       "-1.0"
      ]
     },
     "execution_count": 68,
     "metadata": {},
     "output_type": "execute_result"
    }
   ],
   "source": [
    "train_df['label'].min()"
   ]
  },
  {
   "cell_type": "markdown",
   "id": "0b907a07",
   "metadata": {},
   "source": [
    "### Сформирум классы настроений на основе label"
   ]
  },
  {
   "cell_type": "code",
   "execution_count": 69,
   "id": "2e7e7dcc-7ce7-439e-86bd-9ac702ba4264",
   "metadata": {
    "execution": {
     "iopub.execute_input": "2024-10-12T09:09:31.635305Z",
     "iopub.status.busy": "2024-10-12T09:09:31.634826Z",
     "iopub.status.idle": "2024-10-12T09:09:31.678468Z",
     "shell.execute_reply": "2024-10-12T09:09:31.677503Z",
     "shell.execute_reply.started": "2024-10-12T09:09:31.635268Z"
    },
    "tags": []
   },
   "outputs": [],
   "source": [
    "def get_sentiment_class(label):\n",
    "    if label >= -1 and label < -0.33:\n",
    "        return 'NEGATIVE'\n",
    "    elif label >= -0.33 and label < 0.33:\n",
    "        return 'NEUTRAL'\n",
    "    elif label > 0.33 and label <= 1:\n",
    "        return 'POSITIVE'"
   ]
  },
  {
   "cell_type": "code",
   "execution_count": 70,
   "id": "b4192a22-7e18-4215-8f87-3c630bed9ca3",
   "metadata": {
    "execution": {
     "iopub.execute_input": "2024-10-12T09:09:31.680534Z",
     "iopub.status.busy": "2024-10-12T09:09:31.679547Z",
     "iopub.status.idle": "2024-10-12T09:09:31.762489Z",
     "shell.execute_reply": "2024-10-12T09:09:31.761616Z",
     "shell.execute_reply.started": "2024-10-12T09:09:31.680504Z"
    },
    "tags": []
   },
   "outputs": [],
   "source": [
    "train_df['sentiment_class'] = train_df['label'].apply(\n",
    "    lambda x: get_sentiment_class(x)\n",
    ")"
   ]
  },
  {
   "cell_type": "code",
   "execution_count": 71,
   "id": "3b8f969e-06e6-48b5-81d8-b7c1e41d9ab0",
   "metadata": {
    "execution": {
     "iopub.execute_input": "2024-10-12T09:09:31.764497Z",
     "iopub.status.busy": "2024-10-12T09:09:31.763472Z",
     "iopub.status.idle": "2024-10-12T09:09:31.785478Z",
     "shell.execute_reply": "2024-10-12T09:09:31.784637Z",
     "shell.execute_reply.started": "2024-10-12T09:09:31.764453Z"
    },
    "tags": []
   },
   "outputs": [
    {
     "data": {
      "text/html": [
       "<div>\n",
       "<style scoped>\n",
       "    .dataframe tbody tr th:only-of-type {\n",
       "        vertical-align: middle;\n",
       "    }\n",
       "\n",
       "    .dataframe tbody tr th {\n",
       "        vertical-align: top;\n",
       "    }\n",
       "\n",
       "    .dataframe thead th {\n",
       "        text-align: right;\n",
       "    }\n",
       "</style>\n",
       "<table border=\"1\" class=\"dataframe\">\n",
       "  <thead>\n",
       "    <tr style=\"text-align: right;\">\n",
       "      <th></th>\n",
       "      <th>post</th>\n",
       "      <th>reactions</th>\n",
       "      <th>text</th>\n",
       "      <th>label</th>\n",
       "      <th>sentiment_class</th>\n",
       "    </tr>\n",
       "  </thead>\n",
       "  <tbody>\n",
       "    <tr>\n",
       "      <th>0</th>\n",
       "      <td>К вам в палатку зашла кошка? Теперь это ваша к...</td>\n",
       "      <td>❤: 314, 😱: 20, 😁: 14, None: 13, 👍: 3, 🎉: 1, 🤮:...</td>\n",
       "      <td>палатку зашла кошка это ваша кошка живите этим</td>\n",
       "      <td>0.80</td>\n",
       "      <td>POSITIVE</td>\n",
       "    </tr>\n",
       "    <tr>\n",
       "      <th>1</th>\n",
       "      <td>Невероятная техника рисования от Ричарда Бернера</td>\n",
       "      <td>👍: 1235, 😱: 290, ❤: 125, 😁: 14, 🗿: 11, 👎: 2, 🤡: 2</td>\n",
       "      <td>невероятная техника рисования ричарда бернера</td>\n",
       "      <td>0.64</td>\n",
       "      <td>POSITIVE</td>\n",
       "    </tr>\n",
       "    <tr>\n",
       "      <th>2</th>\n",
       "      <td>На оф канале Not Pixel Channel выложили пост с...</td>\n",
       "      <td>👍: 1685, 🎉: 309, 😁: 154, 🤡: 68, ❤: 16, None: 1...</td>\n",
       "      <td>оф канале not pixel channel выложили пост видо...</td>\n",
       "      <td>0.92</td>\n",
       "      <td>POSITIVE</td>\n",
       "    </tr>\n",
       "    <tr>\n",
       "      <th>3</th>\n",
       "      <td>На порках накатали рисунок 🤣 В игре всего пару...</td>\n",
       "      <td>👍: 984, ❤: 158, 🤡: 90, 😁: 58, 🤮: 14, 👎: 11, No...</td>\n",
       "      <td>порках накатали рисунок игре пару флагов уцеле...</td>\n",
       "      <td>0.86</td>\n",
       "      <td>POSITIVE</td>\n",
       "    </tr>\n",
       "    <tr>\n",
       "      <th>4</th>\n",
       "      <td>Не ну ты вообще снимать умеешь? Давай ещё раз!</td>\n",
       "      <td>❤: 2372, 😁: 695, 👍: 97, 🤡: 12, 🤮: 6, 🗿: 6, 🙏: ...</td>\n",
       "      <td>вообще снимать умеешь давай ещё</td>\n",
       "      <td>0.95</td>\n",
       "      <td>POSITIVE</td>\n",
       "    </tr>\n",
       "  </tbody>\n",
       "</table>\n",
       "</div>"
      ],
      "text/plain": [
       "                                                post  ... sentiment_class\n",
       "0  К вам в палатку зашла кошка? Теперь это ваша к...  ...        POSITIVE\n",
       "1   Невероятная техника рисования от Ричарда Бернера  ...        POSITIVE\n",
       "2  На оф канале Not Pixel Channel выложили пост с...  ...        POSITIVE\n",
       "3  На порках накатали рисунок 🤣 В игре всего пару...  ...        POSITIVE\n",
       "4     Не ну ты вообще снимать умеешь? Давай ещё раз!  ...        POSITIVE\n",
       "\n",
       "[5 rows x 5 columns]"
      ]
     },
     "execution_count": 71,
     "metadata": {},
     "output_type": "execute_result"
    }
   ],
   "source": [
    "train_df.head()"
   ]
  },
  {
   "cell_type": "code",
   "execution_count": 72,
   "id": "582b7649-292b-4051-abaa-c2130ecd6c31",
   "metadata": {
    "execution": {
     "iopub.execute_input": "2024-10-12T09:09:31.787496Z",
     "iopub.status.busy": "2024-10-12T09:09:31.786502Z",
     "iopub.status.idle": "2024-10-12T09:09:31.815942Z",
     "shell.execute_reply": "2024-10-12T09:09:31.815197Z",
     "shell.execute_reply.started": "2024-10-12T09:09:31.787463Z"
    },
    "tags": []
   },
   "outputs": [],
   "source": [
    "value_counts = train_df['sentiment_class'].value_counts()"
   ]
  },
  {
   "cell_type": "code",
   "execution_count": 73,
   "id": "ef41dcf6-334f-4f6b-84a7-238d9853819b",
   "metadata": {
    "execution": {
     "iopub.execute_input": "2024-10-12T09:09:31.818023Z",
     "iopub.status.busy": "2024-10-12T09:09:31.816879Z",
     "iopub.status.idle": "2024-10-12T09:09:31.947614Z",
     "shell.execute_reply": "2024-10-12T09:09:31.946703Z",
     "shell.execute_reply.started": "2024-10-12T09:09:31.817988Z"
    },
    "tags": []
   },
   "outputs": [
    {
     "data": {
      "image/png": "[encoded data removed]",
      "text/plain": [
       "<Figure size 640x480 with 1 Axes>"
      ]
     },
     "metadata": {},
     "output_type": "display_data"
    }
   ],
   "source": [
    "plt.bar(value_counts.index, value_counts.values)\n",
    "plt.show()"
   ]
  },
  {
   "cell_type": "markdown",
   "id": "d9426627-0eb0-4669-881b-37c03959ef57",
   "metadata": {},
   "source": [
    "### Осталось обучить и вопрос, что лучше классификация или регрессия? Есть лэйблы для того и другого. Начнем с регрессии и посмотрим на потери и метрики"
   ]
  },
  {
   "cell_type": "code",
   "execution_count": 74,
   "id": "2f77dec0-49ce-4b28-b19a-06188efa1245",
   "metadata": {
    "execution": {
     "iopub.execute_input": "2024-10-12T09:09:31.949266Z",
     "iopub.status.busy": "2024-10-12T09:09:31.948699Z",
     "iopub.status.idle": "2024-10-12T09:09:32.019040Z",
     "shell.execute_reply": "2024-10-12T09:09:32.018223Z",
     "shell.execute_reply.started": "2024-10-12T09:09:31.949229Z"
    },
    "tags": []
   },
   "outputs": [],
   "source": [
    "train_df = train_df[['text', 'label']]"
   ]
  },
  {
   "cell_type": "code",
   "execution_count": 75,
   "id": "61a50b4c-61a8-4d23-bf3d-6fb77cbf3078",
   "metadata": {
    "execution": {
     "iopub.execute_input": "2024-10-12T09:09:32.021159Z",
     "iopub.status.busy": "2024-10-12T09:09:32.020106Z",
     "iopub.status.idle": "2024-10-12T09:09:32.115941Z",
     "shell.execute_reply": "2024-10-12T09:09:32.114983Z",
     "shell.execute_reply.started": "2024-10-12T09:09:32.021116Z"
    },
    "tags": []
   },
   "outputs": [],
   "source": [
    "train_df = train_df.dropna(subset=['text'])"
   ]
  },
  {
   "cell_type": "code",
   "execution_count": 76,
   "id": "11aa462a-fbcf-48e0-b3fb-ab9773862efe",
   "metadata": {
    "execution": {
     "iopub.execute_input": "2024-10-12T09:09:32.117845Z",
     "iopub.status.busy": "2024-10-12T09:09:32.116807Z",
     "iopub.status.idle": "2024-10-12T09:09:32.169990Z",
     "shell.execute_reply": "2024-10-12T09:09:32.169071Z",
     "shell.execute_reply.started": "2024-10-12T09:09:32.117811Z"
    },
    "tags": []
   },
   "outputs": [],
   "source": [
    "train_df['text'] = train_df['text'].astype(str)"
   ]
  },
  {
   "cell_type": "code",
   "execution_count": 236,
   "id": "c831e852-d6e6-4e45-aa5a-59086ba9596f",
   "metadata": {
    "execution": {
     "iopub.execute_input": "2024-10-12T10:22:37.857678Z",
     "iopub.status.busy": "2024-10-12T10:22:37.856657Z",
     "iopub.status.idle": "2024-10-12T10:22:37.940181Z",
     "shell.execute_reply": "2024-10-12T10:22:37.939419Z",
     "shell.execute_reply.started": "2024-10-12T10:22:37.857633Z"
    }
   },
   "outputs": [],
   "source": [
    "train_df = train_df.dropna(subset=['text'])"
   ]
  },
  {
   "cell_type": "code",
   "execution_count": 77,
   "id": "36abdb50-8877-437a-b287-a6fd825c0e3b",
   "metadata": {
    "execution": {
     "iopub.execute_input": "2024-10-12T09:09:32.171878Z",
     "iopub.status.busy": "2024-10-12T09:09:32.170812Z",
     "iopub.status.idle": "2024-10-12T09:09:35.415447Z",
     "shell.execute_reply": "2024-10-12T09:09:35.414676Z",
     "shell.execute_reply.started": "2024-10-12T09:09:32.171795Z"
    },
    "tags": []
   },
   "outputs": [],
   "source": [
    "train_df.to_csv('train_dataset.csv', index=False)"
   ]
  },
  {
   "cell_type": "code",
   "execution_count": 152,
   "id": "4a0b3c49-cee7-4804-9375-9c9faebb5051",
   "metadata": {
    "execution": {
     "iopub.execute_input": "2024-10-12T09:46:06.220288Z",
     "iopub.status.busy": "2024-10-12T09:46:06.219259Z",
     "iopub.status.idle": "2024-10-12T09:46:08.929419Z",
     "shell.execute_reply": "2024-10-12T09:46:08.928622Z",
     "shell.execute_reply.started": "2024-10-12T09:46:06.220248Z"
    },
    "tags": []
   },
   "outputs": [],
   "source": [
    "train_df = pd.read_csv('train_dataset.csv')"
   ]
  },
  {
   "cell_type": "code",
   "execution_count": 183,
   "id": "52b5628e-1419-4d00-8d4b-eec37c842890",
   "metadata": {
    "execution": {
     "iopub.execute_input": "2024-10-12T10:01:39.124375Z",
     "iopub.status.busy": "2024-10-12T10:01:39.123233Z",
     "iopub.status.idle": "2024-10-12T10:01:39.149249Z",
     "shell.execute_reply": "2024-10-12T10:01:39.148542Z",
     "shell.execute_reply.started": "2024-10-12T10:01:39.124329Z"
    },
    "tags": []
   },
   "outputs": [
    {
     "data": {
      "text/html": [
       "<div>\n",
       "<style scoped>\n",
       "    .dataframe tbody tr th:only-of-type {\n",
       "        vertical-align: middle;\n",
       "    }\n",
       "\n",
       "    .dataframe tbody tr th {\n",
       "        vertical-align: top;\n",
       "    }\n",
       "\n",
       "    .dataframe thead th {\n",
       "        text-align: right;\n",
       "    }\n",
       "</style>\n",
       "<table border=\"1\" class=\"dataframe\">\n",
       "  <thead>\n",
       "    <tr style=\"text-align: right;\">\n",
       "      <th></th>\n",
       "      <th>text</th>\n",
       "      <th>label</th>\n",
       "    </tr>\n",
       "  </thead>\n",
       "  <tbody>\n",
       "    <tr>\n",
       "      <th>0</th>\n",
       "      <td>палатку зашла кошка это ваша кошка живите этим</td>\n",
       "      <td>0.80</td>\n",
       "    </tr>\n",
       "    <tr>\n",
       "      <th>1</th>\n",
       "      <td>невероятная техника рисования ричарда бернера</td>\n",
       "      <td>0.64</td>\n",
       "    </tr>\n",
       "    <tr>\n",
       "      <th>2</th>\n",
       "      <td>оф канале not pixel channel выложили пост видо...</td>\n",
       "      <td>0.92</td>\n",
       "    </tr>\n",
       "    <tr>\n",
       "      <th>3</th>\n",
       "      <td>порках накатали рисунок игре пару флагов уцеле...</td>\n",
       "      <td>0.86</td>\n",
       "    </tr>\n",
       "    <tr>\n",
       "      <th>4</th>\n",
       "      <td>вообще снимать умеешь давай ещё</td>\n",
       "      <td>0.95</td>\n",
       "    </tr>\n",
       "  </tbody>\n",
       "</table>\n",
       "</div>"
      ],
      "text/plain": [
       "                                                text  label\n",
       "0     палатку зашла кошка это ваша кошка живите этим   0.80\n",
       "1      невероятная техника рисования ричарда бернера   0.64\n",
       "2  оф канале not pixel channel выложили пост видо...   0.92\n",
       "3  порках накатали рисунок игре пару флагов уцеле...   0.86\n",
       "4                    вообще снимать умеешь давай ещё   0.95"
      ]
     },
     "execution_count": 183,
     "metadata": {},
     "output_type": "execute_result"
    }
   ],
   "source": [
    "train_df.head()"
   ]
  },
  {
   "cell_type": "code",
   "execution_count": 237,
   "id": "aff6e5d4-9817-47a9-8b13-71060decdc56",
   "metadata": {
    "execution": {
     "iopub.execute_input": "2024-10-12T10:22:48.647790Z",
     "iopub.status.busy": "2024-10-12T10:22:48.646590Z",
     "iopub.status.idle": "2024-10-12T10:22:48.665927Z",
     "shell.execute_reply": "2024-10-12T10:22:48.665085Z",
     "shell.execute_reply.started": "2024-10-12T10:22:48.647742Z"
    }
   },
   "outputs": [],
   "source": [
    "train_df = train_df.reset_index(drop=True)"
   ]
  },
  {
   "cell_type": "markdown",
   "id": "2fd57e04-0904-44a9-a4d1-b4590e61e277",
   "metadata": {},
   "source": [
    "### Формируем torch dataset"
   ]
  },
  {
   "cell_type": "code",
   "execution_count": 248,
   "id": "6b66576f-a3ff-4bcc-8b7e-044cefc17ff4",
   "metadata": {
    "execution": {
     "iopub.execute_input": "2024-10-12T10:24:14.021638Z",
     "iopub.status.busy": "2024-10-12T10:24:14.020599Z",
     "iopub.status.idle": "2024-10-12T10:24:14.034119Z",
     "shell.execute_reply": "2024-10-12T10:24:14.033453Z",
     "shell.execute_reply.started": "2024-10-12T10:24:14.021594Z"
    },
    "tags": []
   },
   "outputs": [],
   "source": [
    "class ReactionsDataset(Dataset):\n",
    "    def __init__(self, dataframe, tokenizer, max_len=512):\n",
    "        self.dataframe = dataframe\n",
    "\n",
    "        self.tokenizer = tokenizer\n",
    "        self.max_len = max_len\n",
    "    \n",
    "    def __len__(self):\n",
    "        return len(self.dataframe)\n",
    "    \n",
    "    def __getitem__(self, idx):\n",
    "        text = self.dataframe['text'][idx]\n",
    "        label = self.dataframe['label'][idx]\n",
    "\n",
    "        encoding = self.tokenizer.encode_plus(\n",
    "            text,\n",
    "            add_special_tokens=True,\n",
    "            max_length=self.max_len,\n",
    "            return_token_type_ids=False,\n",
    "            padding='max_length',\n",
    "            truncation=True,\n",
    "            return_attention_mask=True,\n",
    "            return_tensors='pt',\n",
    "        )\n",
    "        \n",
    "        return {\n",
    "            'input_ids': encoding['input_ids'].flatten(),\n",
    "            'attention_mask': encoding['attention_mask'].flatten(),\n",
    "            'labels': torch.tensor(label, dtype=torch.float)\n",
    "        }"
   ]
  },
  {
   "cell_type": "markdown",
   "id": "f927da89-2e51-4032-aa05-717c74ca9dd9",
   "metadata": {},
   "source": [
    "### Описываем модель нейронной сети. На самом деле берем уже обученную на русских текстах модель BERT и дообучаем ее на своих данных"
   ]
  },
  {
   "cell_type": "code",
   "execution_count": 249,
   "id": "2eb64e9d-02b9-4636-82b8-acc76c87dcab",
   "metadata": {
    "execution": {
     "iopub.execute_input": "2024-10-12T10:24:16.957725Z",
     "iopub.status.busy": "2024-10-12T10:24:16.956624Z",
     "iopub.status.idle": "2024-10-12T10:24:16.969194Z",
     "shell.execute_reply": "2024-10-12T10:24:16.968427Z",
     "shell.execute_reply.started": "2024-10-12T10:24:16.957680Z"
    },
    "tags": []
   },
   "outputs": [],
   "source": [
    "class RegressionModel(nn.Module):\n",
    "    def __init__(self, base_model, hidden_size=768, output_size=1, dropout_prob=0.1):\n",
    "        super(RegressionModel, self).__init__()\n",
    "        self.base_model = base_model \n",
    "        self.dropout = nn.Dropout(dropout_prob)\n",
    "        self.fc = nn.Linear(hidden_size, output_size)  \n",
    "\n",
    "    def forward(self, input_ids, attention_mask):\n",
    "        outputs = self.base_model(input_ids=input_ids, attention_mask=attention_mask)\n",
    "        output = outputs.last_hidden_state[:, 0, :]\n",
    "\n",
    "        output = self.dropout(output)\n",
    "        output = self.fc(output)\n",
    "        \n",
    "        return output"
   ]
  },
  {
   "cell_type": "markdown",
   "id": "526d7aa6-753c-4246-b332-2ebfa6f2424d",
   "metadata": {},
   "source": [
    "### А вот и базовая модель "
   ]
  },
  {
   "cell_type": "code",
   "execution_count": 166,
   "id": "b53322a5-4bb7-45ea-bee2-1eb2f8deafda",
   "metadata": {
    "execution": {
     "iopub.execute_input": "2024-10-12T09:46:38.434752Z",
     "iopub.status.busy": "2024-10-12T09:46:38.433795Z",
     "iopub.status.idle": "2024-10-12T09:46:49.850261Z",
     "shell.execute_reply": "2024-10-12T09:46:49.849349Z",
     "shell.execute_reply.started": "2024-10-12T09:46:38.434710Z"
    },
    "tags": []
   },
   "outputs": [
    {
     "name": "stderr",
     "output_type": "stream",
     "text": [
      "Some weights of the model checkpoint at DeepPavlov/rubert-base-cased were not used when initializing BertModel: ['cls.predictions.bias', 'cls.predictions.decoder.bias', 'cls.predictions.decoder.weight', 'cls.predictions.transform.LayerNorm.bias', 'cls.predictions.transform.LayerNorm.weight', 'cls.predictions.transform.dense.bias', 'cls.predictions.transform.dense.weight', 'cls.seq_relationship.bias', 'cls.seq_relationship.weight']\n",
      "- This IS expected if you are initializing BertModel from the checkpoint of a model trained on another task or with another architecture (e.g. initializing a BertForSequenceClassification model from a BertForPreTraining model).\n",
      "- This IS NOT expected if you are initializing BertModel from the checkpoint of a model that you expect to be exactly identical (initializing a BertForSequenceClassification model from a BertForSequenceClassification model).\n"
     ]
    }
   ],
   "source": [
    "tokenizer = AutoTokenizer.from_pretrained(\n",
    "    \"DeepPavlov/rubert-base-cased\"\n",
    ")\n",
    "\n",
    "base_model = AutoModel.from_pretrained(\n",
    "    \"DeepPavlov/rubert-base-cased\"\n",
    ")"
   ]
  },
  {
   "cell_type": "code",
   "execution_count": 250,
   "id": "2852ea14-f6fa-4d29-b104-f52ed9688394",
   "metadata": {
    "execution": {
     "iopub.execute_input": "2024-10-12T10:24:18.725667Z",
     "iopub.status.busy": "2024-10-12T10:24:18.724596Z",
     "iopub.status.idle": "2024-10-12T10:24:18.734990Z",
     "shell.execute_reply": "2024-10-12T10:24:18.734325Z",
     "shell.execute_reply.started": "2024-10-12T10:24:18.725622Z"
    },
    "tags": []
   },
   "outputs": [],
   "source": [
    "reactions_dataset = ReactionsDataset(train_df, tokenizer)"
   ]
  },
  {
   "cell_type": "code",
   "execution_count": 251,
   "id": "f97133f5-aa68-4498-8b79-21df148aecf0",
   "metadata": {
    "execution": {
     "iopub.execute_input": "2024-10-12T10:24:19.019596Z",
     "iopub.status.busy": "2024-10-12T10:24:19.018623Z",
     "iopub.status.idle": "2024-10-12T10:24:19.049236Z",
     "shell.execute_reply": "2024-10-12T10:24:19.048306Z",
     "shell.execute_reply.started": "2024-10-12T10:24:19.019556Z"
    },
    "tags": []
   },
   "outputs": [],
   "source": [
    "model = RegressionModel(base_model)"
   ]
  },
  {
   "cell_type": "markdown",
   "id": "00bd2523-7c67-4846-9d77-fa049b2b2719",
   "metadata": {},
   "source": [
    "### Разбиваем на тренировочные и валидационные данные"
   ]
  },
  {
   "cell_type": "code",
   "execution_count": 252,
   "id": "0bf624c7-fade-43e9-a2da-ed930cbca185",
   "metadata": {
    "execution": {
     "iopub.execute_input": "2024-10-12T10:24:19.817867Z",
     "iopub.status.busy": "2024-10-12T10:24:19.816850Z",
     "iopub.status.idle": "2024-10-12T10:24:19.829526Z",
     "shell.execute_reply": "2024-10-12T10:24:19.828812Z",
     "shell.execute_reply.started": "2024-10-12T10:24:19.817823Z"
    },
    "tags": []
   },
   "outputs": [],
   "source": [
    "train_size = int(0.8 * len(reactions_dataset))\n",
    "val_size = len(reactions_dataset) - train_size"
   ]
  },
  {
   "cell_type": "code",
   "execution_count": 253,
   "id": "2c8d040c-7703-40fd-b3f2-138faa65215a",
   "metadata": {
    "execution": {
     "iopub.execute_input": "2024-10-12T10:24:20.034270Z",
     "iopub.status.busy": "2024-10-12T10:24:20.033345Z",
     "iopub.status.idle": "2024-10-12T10:24:20.067770Z",
     "shell.execute_reply": "2024-10-12T10:24:20.066906Z",
     "shell.execute_reply.started": "2024-10-12T10:24:20.034228Z"
    },
    "tags": []
   },
   "outputs": [],
   "source": [
    "train_dataset, val_dataset = random_split(reactions_dataset, [train_size, val_size])"
   ]
  },
  {
   "cell_type": "code",
   "execution_count": 254,
   "id": "b0e699b9-9dba-4489-b225-c64bd935b131",
   "metadata": {
    "execution": {
     "iopub.execute_input": "2024-10-12T10:24:20.272719Z",
     "iopub.status.busy": "2024-10-12T10:24:20.271733Z",
     "iopub.status.idle": "2024-10-12T10:24:20.311195Z",
     "shell.execute_reply": "2024-10-12T10:24:20.310331Z",
     "shell.execute_reply.started": "2024-10-12T10:24:20.272689Z"
    },
    "tags": []
   },
   "outputs": [],
   "source": [
    "train_loader = DataLoader(train_dataset, batch_size=64, shuffle=True)\n",
    "val_loader = DataLoader(val_dataset, batch_size=32, shuffle=True)"
   ]
  },
  {
   "cell_type": "markdown",
   "id": "af7070e9-eb5f-4bb1-adae-53175834481f",
   "metadata": {},
   "source": [
    "### Функция обучения"
   ]
  },
  {
   "cell_type": "code",
   "execution_count": 259,
   "id": "82e1f5ed-7b51-417a-acf5-230469f37091",
   "metadata": {
    "execution": {
     "iopub.execute_input": "2024-10-12T10:25:13.211108Z",
     "iopub.status.busy": "2024-10-12T10:25:13.209958Z",
     "iopub.status.idle": "2024-10-12T10:25:13.234720Z",
     "shell.execute_reply": "2024-10-12T10:25:13.233907Z",
     "shell.execute_reply.started": "2024-10-12T10:25:13.211058Z"
    },
    "tags": []
   },
   "outputs": [],
   "source": [
    "def train(model, dataloader, criterion, optimizer, device):\n",
    "    model.train()\n",
    "    total_loss = 0\n",
    "\n",
    "    all_preds = []\n",
    "    all_targets = []\n",
    "    \n",
    "    for batch in dataloader:\n",
    "        input_ids = batch['input_ids'].to(device)\n",
    "        attention_mask = batch['attention_mask'].to(device)\n",
    "        targets = batch['labels'].to(device)\n",
    "\n",
    "        optimizer.zero_grad()\n",
    "\n",
    "        outputs = model(input_ids, attention_mask)\n",
    "        loss = criterion(outputs.squeeze(), targets)\n",
    "        loss.backward()\n",
    "        optimizer.step()\n",
    "\n",
    "        total_loss += loss.item()\n",
    "\n",
    "        all_preds.extend(outputs.detach().cpu().numpy())\n",
    "        all_targets.extend(targets.detach().cpu().numpy())\n",
    "\n",
    "    avg_loss = total_loss / len(dataloader)\n",
    "    r2 = r2_score(all_targets, all_preds)\n",
    "    \n",
    "    return avg_loss, r2"
   ]
  },
  {
   "cell_type": "markdown",
   "id": "bab826c1-9870-4093-87fb-7ed37612b65b",
   "metadata": {},
   "source": [
    "### Функция валидации (тестирования)"
   ]
  },
  {
   "cell_type": "code",
   "execution_count": 260,
   "id": "8c793291-cd8c-4e80-b107-adb6ead141b2",
   "metadata": {
    "execution": {
     "iopub.execute_input": "2024-10-12T10:25:14.564739Z",
     "iopub.status.busy": "2024-10-12T10:25:14.563799Z",
     "iopub.status.idle": "2024-10-12T10:25:14.589900Z",
     "shell.execute_reply": "2024-10-12T10:25:14.589084Z",
     "shell.execute_reply.started": "2024-10-12T10:25:14.564696Z"
    },
    "tags": []
   },
   "outputs": [],
   "source": [
    "def validate(model, dataloader, criterion, device):\n",
    "    model.eval()\n",
    "    total_loss = 0\n",
    "    \n",
    "    all_preds = []\n",
    "    all_targets = []\n",
    "\n",
    "    with torch.no_grad():\n",
    "        for batch in dataloader:\n",
    "            input_ids = batch['input_ids'].to(device)\n",
    "            attention_mask = batch['attention_mask'].to(device)\n",
    "            targets = batch['labels'].to(device)\n",
    "\n",
    "            outputs = model(input_ids, attention_mask)\n",
    "            loss = criterion(outputs.squeeze(), targets)\n",
    "            total_loss += loss.item()\n",
    "\n",
    "            all_preds.extend(outputs.detach().cpu().numpy())\n",
    "            all_targets.extend(targets.detach().cpu().numpy())\n",
    "\n",
    "    avg_loss = total_loss / len(dataloader)\n",
    "    r2 = r2_score(all_targets, all_preds)  \n",
    "    \n",
    "    return avg_loss, r2"
   ]
  },
  {
   "cell_type": "code",
   "execution_count": 261,
   "id": "380cade5-e5df-4c49-8e2a-22788c1f5420",
   "metadata": {
    "execution": {
     "iopub.execute_input": "2024-10-12T10:25:14.714455Z",
     "iopub.status.busy": "2024-10-12T10:25:14.713471Z",
     "iopub.status.idle": "2024-10-12T10:25:14.728509Z",
     "shell.execute_reply": "2024-10-12T10:25:14.727722Z",
     "shell.execute_reply.started": "2024-10-12T10:25:14.714420Z"
    },
    "tags": []
   },
   "outputs": [],
   "source": [
    "epochs = 3\n",
    "device = 'cpu'\n",
    "learning_rate = 1e-5"
   ]
  },
  {
   "cell_type": "code",
   "execution_count": 262,
   "id": "0f22f323-120c-4b31-8e6a-78956624c53f",
   "metadata": {
    "execution": {
     "iopub.execute_input": "2024-10-12T10:25:14.872613Z",
     "iopub.status.busy": "2024-10-12T10:25:14.871574Z",
     "iopub.status.idle": "2024-10-12T10:25:14.886636Z",
     "shell.execute_reply": "2024-10-12T10:25:14.885871Z",
     "shell.execute_reply.started": "2024-10-12T10:25:14.872564Z"
    },
    "tags": []
   },
   "outputs": [],
   "source": [
    "model = model.to(device)"
   ]
  },
  {
   "cell_type": "code",
   "execution_count": 263,
   "id": "a84a0489-4857-4635-b316-924e9e95ac71",
   "metadata": {
    "execution": {
     "iopub.execute_input": "2024-10-12T10:25:15.030606Z",
     "iopub.status.busy": "2024-10-12T10:25:15.029588Z",
     "iopub.status.idle": "2024-10-12T10:25:15.128111Z",
     "shell.execute_reply": "2024-10-12T10:25:15.127281Z",
     "shell.execute_reply.started": "2024-10-12T10:25:15.030562Z"
    },
    "tags": []
   },
   "outputs": [],
   "source": [
    "criterion = nn.MSELoss()  \n",
    "optimizer = optim.Adam(model.parameters(), lr=learning_rate)"
   ]
  },
  {
   "cell_type": "code",
   "execution_count": null,
   "id": "5c59040f-ed83-4c03-9cb5-6ed4a1e9bf30",
   "metadata": {
    "tags": []
   },
   "outputs": [],
   "source": [
    "best_val_loss = float('inf')\n",
    "for epoch in range(epochs):\n",
    "    train_loss, train_r2 = train(model, train_loader, criterion, optimizer, device)\n",
    "    val_loss, val_r2 = validate(model, val_loader, criterion, device)\n",
    "\n",
    "    print(f\"Эпоха {epoch+1}/{epochs}:\")\n",
    "    print(f\"  Потеря на тренировке: {train_loss:.4f}, R² на тренировке: {train_r2:.4 f}\")\n",
    "    print(f\"  Потеря на валидации: {val_loss:.4f}, R² на валидации: {val_r2:.4f}\")\n",
    "\n",
    "    if val_loss < best_val_loss:\n",
    "        best_val_loss = val_loss\n",
    "        torch.save({\n",
    "            'epoch': epoch,\n",
    "            'model_state_dict': model.state_dict(),\n",
    "            'optimizer_state_dict': optimizer.state_dict(),\n",
    "            'loss': val_loss,\n",
    "        }, 'model_regr_v3.pth')\n",
    "        print(f\"Модель сохранена на {epoch+1}-й эпохе с потерей на валидации: {val_loss:.4f}\")"
   ]
  },
  {
   "cell_type": "code",
   "execution_count": null,
   "id": "cc94e83d-4ae8-4843-bcea-7e3e96ebcf91",
   "metadata": {},
   "outputs": [],
   "source": []
  }
 ],
 "metadata": {
  "kernelspec": {
   "display_name": "DataSphere Kernel",
   "language": "python",
   "name": "python3"
  },
  "language_info": {
   "codemirror_mode": {
    "name": "ipython",
    "version": 3
   },
   "file_extension": ".py",
   "mimetype": "text/x-python",
   "name": "python",
   "nbconvert_exporter": "python",
   "pygments_lexer": "ipython3",
   "version": "3.10.12"
  }
 },
 "nbformat": 4,
 "nbformat_minor": 5
}
